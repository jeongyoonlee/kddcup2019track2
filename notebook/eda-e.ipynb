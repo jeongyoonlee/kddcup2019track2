{
 "cells": [
  {
   "cell_type": "code",
   "execution_count": 1,
   "metadata": {
    "ExecuteTime": {
     "end_time": "2019-05-28T16:12:20.204395Z",
     "start_time": "2019-05-28T16:12:19.961090Z"
    }
   },
   "outputs": [],
   "source": [
    "%load_ext autoreload\n",
    "%autoreload 2\n",
    "%matplotlib inline"
   ]
  },
  {
   "cell_type": "code",
   "execution_count": 2,
   "metadata": {
    "ExecuteTime": {
     "end_time": "2019-05-28T16:12:20.821260Z",
     "start_time": "2019-05-28T16:12:20.206227Z"
    }
   },
   "outputs": [],
   "source": [
    "from glob import glob\n",
    "import json\n",
    "from matplotlib import pyplot as plt\n",
    "import numpy as np\n",
    "import os\n",
    "import pandas as pd\n",
    "from pprint import pprint\n",
    "import seaborn as sns"
   ]
  },
  {
   "cell_type": "code",
   "execution_count": 60,
   "metadata": {
    "ExecuteTime": {
     "end_time": "2019-05-29T00:58:33.803649Z",
     "start_time": "2019-05-29T00:58:33.773219Z"
    }
   },
   "outputs": [],
   "source": [
    "plt.style.use('fivethirtyeight')\n",
    "pd.set_option('max_columns', 100)\n",
    "sns.set_palette('Paired')"
   ]
  },
  {
   "cell_type": "code",
   "execution_count": 4,
   "metadata": {
    "ExecuteTime": {
     "end_time": "2019-05-28T16:12:20.878902Z",
     "start_time": "2019-05-28T16:12:20.851850Z"
    }
   },
   "outputs": [],
   "source": [
    "data_dir = '../data/data_public/E'\n",
    "build_dir = '../build/'\n",
    "model_dir = os.path.join(build_dir, 'model')\n",
    "metric_dir = os.path.join(build_dir, 'metric')\n",
    "val_dir = os.path.join(build_dir, 'val')\n",
    "tst_dir = os.path.join(build_dir, 'tst')\n",
    "sub_dir = os.path.join(build_dir, 'sub')\n",
    "\n",
    "info_file = os.path.join(data_dir, 'train', 'info.json')\n",
    "train_feature_file = os.path.join(data_dir, 'train', 'main_train.data')\n",
    "train_label_file = os.path.join(data_dir, 'train', 'main_train.solution')\n",
    "test_feature_file = os.path.join(data_dir, 'test', 'main_test.data')\n",
    "table_files = glob(os.path.join(data_dir, 'train', 'table_*.data'))"
   ]
  },
  {
   "cell_type": "code",
   "execution_count": 5,
   "metadata": {
    "ExecuteTime": {
     "end_time": "2019-05-28T16:12:20.906844Z",
     "start_time": "2019-05-28T16:12:20.880701Z"
    }
   },
   "outputs": [
    {
     "data": {
      "text/plain": [
       "['../data/data_public/E/train/table_1.data',\n",
       " '../data/data_public/E/train/table_3.data',\n",
       " '../data/data_public/E/train/table_2.data']"
      ]
     },
     "execution_count": 5,
     "metadata": {},
     "output_type": "execute_result"
    }
   ],
   "source": [
    "table_files"
   ]
  },
  {
   "cell_type": "code",
   "execution_count": 6,
   "metadata": {
    "ExecuteTime": {
     "end_time": "2019-05-28T16:12:20.945701Z",
     "start_time": "2019-05-28T16:12:20.908125Z"
    }
   },
   "outputs": [
    {
     "name": "stdout",
     "output_type": "stream",
     "text": [
      "{'relations': [{'key': ['c_01'],\n",
      "                'table_A': 'main',\n",
      "                'table_B': 'table_1',\n",
      "                'type': 'many_to_one'},\n",
      "               {'key': ['c_02'],\n",
      "                'table_A': 'main',\n",
      "                'table_B': 'table_2',\n",
      "                'type': 'many_to_one'},\n",
      "               {'key': ['c_02'],\n",
      "                'table_A': 'main',\n",
      "                'table_B': 'table_3',\n",
      "                'type': 'many_to_one'}],\n",
      " 'start_time': 1550654179,\n",
      " 'tables': {'main': {'c_01': 'cat',\n",
      "                     'c_02': 'cat',\n",
      "                     'c_1': 'cat',\n",
      "                     'c_2': 'cat',\n",
      "                     'c_3': 'cat',\n",
      "                     'n_1': 'num',\n",
      "                     'n_2': 'num',\n",
      "                     't_01': 'time'},\n",
      "            'table_1': {'c_01': 'cat',\n",
      "                        'c_1': 'cat',\n",
      "                        'c_2': 'cat',\n",
      "                        'c_3': 'cat',\n",
      "                        'c_4': 'cat',\n",
      "                        'm_1': 'multi-cat',\n",
      "                        'm_2': 'multi-cat',\n",
      "                        'm_3': 'multi-cat',\n",
      "                        'm_4': 'multi-cat',\n",
      "                        'm_5': 'multi-cat',\n",
      "                        'm_6': 'multi-cat',\n",
      "                        'n_1': 'num',\n",
      "                        'n_2': 'num',\n",
      "                        'n_3': 'num',\n",
      "                        'n_4': 'num',\n",
      "                        'n_5': 'num',\n",
      "                        't_1': 'time',\n",
      "                        't_2': 'time'},\n",
      "            'table_2': {'c_02': 'cat',\n",
      "                        'c_1': 'cat',\n",
      "                        'c_2': 'cat',\n",
      "                        'c_3': 'cat',\n",
      "                        'c_4': 'cat',\n",
      "                        't_1': 'time'},\n",
      "            'table_3': {'c_02': 'cat', 'n_1': 'num', 't_01': 'time'}},\n",
      " 'time_budget': 300,\n",
      " 'time_col': 't_01'}\n"
     ]
    }
   ],
   "source": [
    "with open(info_file, 'r') as f:\n",
    "    info = json.load(f)\n",
    "    \n",
    "pprint(info)"
   ]
  },
  {
   "cell_type": "code",
   "execution_count": 7,
   "metadata": {
    "ExecuteTime": {
     "end_time": "2019-05-28T16:12:22.341237Z",
     "start_time": "2019-05-28T16:12:20.948002Z"
    }
   },
   "outputs": [
    {
     "name": "stdout",
     "output_type": "stream",
     "text": [
      "(226091, 8)\n"
     ]
    },
    {
     "data": {
      "text/html": [
       "<div>\n",
       "<style scoped>\n",
       "    .dataframe tbody tr th:only-of-type {\n",
       "        vertical-align: middle;\n",
       "    }\n",
       "\n",
       "    .dataframe tbody tr th {\n",
       "        vertical-align: top;\n",
       "    }\n",
       "\n",
       "    .dataframe thead th {\n",
       "        text-align: right;\n",
       "    }\n",
       "</style>\n",
       "<table border=\"1\" class=\"dataframe\">\n",
       "  <thead>\n",
       "    <tr style=\"text-align: right;\">\n",
       "      <th></th>\n",
       "      <th>t_01</th>\n",
       "      <th>c_1</th>\n",
       "      <th>c_2</th>\n",
       "      <th>n_1</th>\n",
       "      <th>n_2</th>\n",
       "      <th>c_3</th>\n",
       "      <th>c_02</th>\n",
       "      <th>c_01</th>\n",
       "    </tr>\n",
       "  </thead>\n",
       "  <tbody>\n",
       "    <tr>\n",
       "      <th>0</th>\n",
       "      <td>2017-11-20 14:59:05.767</td>\n",
       "      <td>15471562924606739488</td>\n",
       "      <td>14771401151246747869</td>\n",
       "      <td>2.5</td>\n",
       "      <td>1.0</td>\n",
       "      <td>14917135169840250636</td>\n",
       "      <td>4450187851156539593</td>\n",
       "      <td>14418132055204351816</td>\n",
       "    </tr>\n",
       "    <tr>\n",
       "      <th>1</th>\n",
       "      <td>2017-11-20 10:03:41.763</td>\n",
       "      <td>15471562924606739488</td>\n",
       "      <td>14771401151246747869</td>\n",
       "      <td>2.5</td>\n",
       "      <td>1.0</td>\n",
       "      <td>14917135169840250636</td>\n",
       "      <td>4450187851156539593</td>\n",
       "      <td>14418132055204351816</td>\n",
       "    </tr>\n",
       "    <tr>\n",
       "      <th>2</th>\n",
       "      <td>2017-11-20 09:34:46.558</td>\n",
       "      <td>15471562924606739488</td>\n",
       "      <td>14771401151246747869</td>\n",
       "      <td>2.5</td>\n",
       "      <td>1.0</td>\n",
       "      <td>2518459674421623809</td>\n",
       "      <td>4450187851156539593</td>\n",
       "      <td>14716824702713609146</td>\n",
       "    </tr>\n",
       "    <tr>\n",
       "      <th>3</th>\n",
       "      <td>2017-11-20 09:54:49.547</td>\n",
       "      <td>15471562924606739488</td>\n",
       "      <td>14771401151246747869</td>\n",
       "      <td>2.5</td>\n",
       "      <td>1.0</td>\n",
       "      <td>NaN</td>\n",
       "      <td>4450187851156539593</td>\n",
       "      <td>794432844916012287</td>\n",
       "    </tr>\n",
       "    <tr>\n",
       "      <th>4</th>\n",
       "      <td>2017-11-20 15:17:41.648</td>\n",
       "      <td>15471562924606739488</td>\n",
       "      <td>14771401151246747869</td>\n",
       "      <td>2.5</td>\n",
       "      <td>1.0</td>\n",
       "      <td>NaN</td>\n",
       "      <td>4450187851156539593</td>\n",
       "      <td>794432844916012287</td>\n",
       "    </tr>\n",
       "  </tbody>\n",
       "</table>\n",
       "</div>"
      ],
      "text/plain": [
       "                     t_01                   c_1                   c_2  n_1  \\\n",
       "0 2017-11-20 14:59:05.767  15471562924606739488  14771401151246747869  2.5   \n",
       "1 2017-11-20 10:03:41.763  15471562924606739488  14771401151246747869  2.5   \n",
       "2 2017-11-20 09:34:46.558  15471562924606739488  14771401151246747869  2.5   \n",
       "3 2017-11-20 09:54:49.547  15471562924606739488  14771401151246747869  2.5   \n",
       "4 2017-11-20 15:17:41.648  15471562924606739488  14771401151246747869  2.5   \n",
       "\n",
       "   n_2                   c_3                 c_02                  c_01  \n",
       "0  1.0  14917135169840250636  4450187851156539593  14418132055204351816  \n",
       "1  1.0  14917135169840250636  4450187851156539593  14418132055204351816  \n",
       "2  1.0   2518459674421623809  4450187851156539593  14716824702713609146  \n",
       "3  1.0                   NaN  4450187851156539593    794432844916012287  \n",
       "4  1.0                   NaN  4450187851156539593    794432844916012287  "
      ]
     },
     "execution_count": 7,
     "metadata": {},
     "output_type": "execute_result"
    }
   ],
   "source": [
    "trn_feature = pd.read_csv(train_feature_file, sep='\\t', parse_dates=['t_01'],\n",
    "                          date_parser=lambda x: pd.to_datetime(x, unit='ms'))\n",
    "print(trn_feature.shape)\n",
    "trn_feature.head()"
   ]
  },
  {
   "cell_type": "code",
   "execution_count": 8,
   "metadata": {
    "ExecuteTime": {
     "end_time": "2019-05-28T16:12:22.368968Z",
     "start_time": "2019-05-28T16:12:22.343198Z"
    }
   },
   "outputs": [
    {
     "data": {
      "text/plain": [
       "(Timestamp('2017-11-13 16:00:00.596000'),\n",
       " Timestamp('2017-11-20 15:59:58.669000'))"
      ]
     },
     "execution_count": 8,
     "metadata": {},
     "output_type": "execute_result"
    }
   ],
   "source": [
    "trn_feature.t_01.min(), trn_feature.t_01.max()"
   ]
  },
  {
   "cell_type": "code",
   "execution_count": 58,
   "metadata": {
    "ExecuteTime": {
     "end_time": "2019-05-29T00:55:41.899755Z",
     "start_time": "2019-05-29T00:55:41.871757Z"
    }
   },
   "outputs": [
    {
     "data": {
      "text/plain": [
       "0    222337\n",
       "1      3754\n",
       "Name: label, dtype: int64"
      ]
     },
     "execution_count": 58,
     "metadata": {},
     "output_type": "execute_result"
    }
   ],
   "source": [
    "trn_label = pd.read_csv(train_label_file, sep='\\t')\n",
    "trn = pd.concat([trn_label, trn_feature], axis=1)\n",
    "trn.label.value_counts()"
   ]
  },
  {
   "cell_type": "code",
   "execution_count": 61,
   "metadata": {
    "ExecuteTime": {
     "end_time": "2019-05-29T00:58:42.047739Z",
     "start_time": "2019-05-29T00:58:41.700731Z"
    }
   },
   "outputs": [
    {
     "data": {
      "text/plain": [
       "<matplotlib.axes._subplots.AxesSubplot at 0x7ff579a04780>"
      ]
     },
     "execution_count": 61,
     "metadata": {},
     "output_type": "execute_result"
    },
    {
     "data": {
      "image/png": "[encoded data removed]",
      "text/plain": [
       "<Figure size 1152x288 with 1 Axes>"
      ]
     },
     "metadata": {},
     "output_type": "display_data"
    }
   ],
   "source": [
    "trn.set_index('t_01')[['label']].resample('h').sum().plot(figsize=(16, 4))"
   ]
  },
  {
   "cell_type": "code",
   "execution_count": 9,
   "metadata": {
    "ExecuteTime": {
     "end_time": "2019-05-28T16:12:22.626531Z",
     "start_time": "2019-05-28T16:12:22.370699Z"
    }
   },
   "outputs": [
    {
     "name": "stdout",
     "output_type": "stream",
     "text": [
      "(34867, 8)\n"
     ]
    },
    {
     "data": {
      "text/html": [
       "<div>\n",
       "<style scoped>\n",
       "    .dataframe tbody tr th:only-of-type {\n",
       "        vertical-align: middle;\n",
       "    }\n",
       "\n",
       "    .dataframe tbody tr th {\n",
       "        vertical-align: top;\n",
       "    }\n",
       "\n",
       "    .dataframe thead th {\n",
       "        text-align: right;\n",
       "    }\n",
       "</style>\n",
       "<table border=\"1\" class=\"dataframe\">\n",
       "  <thead>\n",
       "    <tr style=\"text-align: right;\">\n",
       "      <th></th>\n",
       "      <th>t_01</th>\n",
       "      <th>c_1</th>\n",
       "      <th>c_2</th>\n",
       "      <th>n_1</th>\n",
       "      <th>n_2</th>\n",
       "      <th>c_3</th>\n",
       "      <th>c_02</th>\n",
       "      <th>c_01</th>\n",
       "    </tr>\n",
       "  </thead>\n",
       "  <tbody>\n",
       "    <tr>\n",
       "      <th>0</th>\n",
       "      <td>2017-11-21 15:35:31.767</td>\n",
       "      <td>3617038521756852533</td>\n",
       "      <td>14771401151246747869</td>\n",
       "      <td>2.5</td>\n",
       "      <td>1.0</td>\n",
       "      <td>11000644521724705476</td>\n",
       "      <td>7512264136762122279</td>\n",
       "      <td>10335508634649872399</td>\n",
       "    </tr>\n",
       "    <tr>\n",
       "      <th>1</th>\n",
       "      <td>2017-11-21 05:55:06.763</td>\n",
       "      <td>3617038521756852533</td>\n",
       "      <td>14771401151246747869</td>\n",
       "      <td>2.5</td>\n",
       "      <td>1.0</td>\n",
       "      <td>3237176533105420620</td>\n",
       "      <td>7512264136762122279</td>\n",
       "      <td>15573771052877464161</td>\n",
       "    </tr>\n",
       "    <tr>\n",
       "      <th>2</th>\n",
       "      <td>2017-11-20 23:31:58.558</td>\n",
       "      <td>3617038521756852533</td>\n",
       "      <td>14771401151246747869</td>\n",
       "      <td>2.5</td>\n",
       "      <td>1.0</td>\n",
       "      <td>1212598175787106017</td>\n",
       "      <td>7512264136762122279</td>\n",
       "      <td>16687750388222936379</td>\n",
       "    </tr>\n",
       "    <tr>\n",
       "      <th>3</th>\n",
       "      <td>2017-11-20 23:57:50.547</td>\n",
       "      <td>3617038521756852533</td>\n",
       "      <td>14771401151246747869</td>\n",
       "      <td>2.5</td>\n",
       "      <td>1.0</td>\n",
       "      <td>NaN</td>\n",
       "      <td>7512264136762122279</td>\n",
       "      <td>11856320958148312023</td>\n",
       "    </tr>\n",
       "    <tr>\n",
       "      <th>4</th>\n",
       "      <td>2017-11-21 00:03:12.648</td>\n",
       "      <td>3617038521756852533</td>\n",
       "      <td>14771401151246747869</td>\n",
       "      <td>2.5</td>\n",
       "      <td>1.0</td>\n",
       "      <td>6015741703392652014</td>\n",
       "      <td>7512264136762122279</td>\n",
       "      <td>5622224912178203044</td>\n",
       "    </tr>\n",
       "  </tbody>\n",
       "</table>\n",
       "</div>"
      ],
      "text/plain": [
       "                     t_01                  c_1                   c_2  n_1  \\\n",
       "0 2017-11-21 15:35:31.767  3617038521756852533  14771401151246747869  2.5   \n",
       "1 2017-11-21 05:55:06.763  3617038521756852533  14771401151246747869  2.5   \n",
       "2 2017-11-20 23:31:58.558  3617038521756852533  14771401151246747869  2.5   \n",
       "3 2017-11-20 23:57:50.547  3617038521756852533  14771401151246747869  2.5   \n",
       "4 2017-11-21 00:03:12.648  3617038521756852533  14771401151246747869  2.5   \n",
       "\n",
       "   n_2                   c_3                 c_02                  c_01  \n",
       "0  1.0  11000644521724705476  7512264136762122279  10335508634649872399  \n",
       "1  1.0   3237176533105420620  7512264136762122279  15573771052877464161  \n",
       "2  1.0   1212598175787106017  7512264136762122279  16687750388222936379  \n",
       "3  1.0                   NaN  7512264136762122279  11856320958148312023  \n",
       "4  1.0   6015741703392652014  7512264136762122279   5622224912178203044  "
      ]
     },
     "execution_count": 9,
     "metadata": {},
     "output_type": "execute_result"
    }
   ],
   "source": [
    "tst_feature = pd.read_csv(test_feature_file, sep='\\t', parse_dates=['t_01'],\n",
    "                          date_parser=lambda x: pd.to_datetime(x, unit='ms'))\n",
    "print(tst_feature.shape)\n",
    "tst_feature.head()"
   ]
  },
  {
   "cell_type": "code",
   "execution_count": 10,
   "metadata": {
    "ExecuteTime": {
     "end_time": "2019-05-28T16:12:22.655572Z",
     "start_time": "2019-05-28T16:12:22.628488Z"
    }
   },
   "outputs": [
    {
     "data": {
      "text/plain": [
       "(Timestamp('2017-11-20 16:00:10.709000'),\n",
       " Timestamp('2017-11-21 15:59:57.654000'))"
      ]
     },
     "execution_count": 10,
     "metadata": {},
     "output_type": "execute_result"
    }
   ],
   "source": [
    "tst_feature.t_01.min(), tst_feature.t_01.max()"
   ]
  },
  {
   "cell_type": "code",
   "execution_count": 12,
   "metadata": {
    "ExecuteTime": {
     "end_time": "2019-05-28T16:28:33.129239Z",
     "start_time": "2019-05-28T16:28:32.582500Z"
    }
   },
   "outputs": [
    {
     "name": "stdout",
     "output_type": "stream",
     "text": [
      "(13892, 18)\n"
     ]
    },
    {
     "data": {
      "text/html": [
       "<div>\n",
       "<style scoped>\n",
       "    .dataframe tbody tr th:only-of-type {\n",
       "        vertical-align: middle;\n",
       "    }\n",
       "\n",
       "    .dataframe tbody tr th {\n",
       "        vertical-align: top;\n",
       "    }\n",
       "\n",
       "    .dataframe thead th {\n",
       "        text-align: right;\n",
       "    }\n",
       "</style>\n",
       "<table border=\"1\" class=\"dataframe\">\n",
       "  <thead>\n",
       "    <tr style=\"text-align: right;\">\n",
       "      <th></th>\n",
       "      <th>c_01</th>\n",
       "      <th>c_1</th>\n",
       "      <th>c_2</th>\n",
       "      <th>n_1</th>\n",
       "      <th>c_3</th>\n",
       "      <th>c_4</th>\n",
       "      <th>t_1</th>\n",
       "      <th>t_2</th>\n",
       "      <th>n_2</th>\n",
       "      <th>n_3</th>\n",
       "      <th>n_4</th>\n",
       "      <th>n_5</th>\n",
       "      <th>m_1</th>\n",
       "      <th>m_2</th>\n",
       "      <th>m_3</th>\n",
       "      <th>m_4</th>\n",
       "      <th>m_5</th>\n",
       "      <th>m_6</th>\n",
       "    </tr>\n",
       "  </thead>\n",
       "  <tbody>\n",
       "    <tr>\n",
       "      <th>0</th>\n",
       "      <td>141657817360361872</td>\n",
       "      <td>15189683899650635087</td>\n",
       "      <td>9187114477394342385</td>\n",
       "      <td>29.5</td>\n",
       "      <td>11864323738170122005</td>\n",
       "      <td>18326526972445440863</td>\n",
       "      <td>1.510663e+12</td>\n",
       "      <td>1502284346352</td>\n",
       "      <td>10.0</td>\n",
       "      <td>31040.5</td>\n",
       "      <td>5174.25</td>\n",
       "      <td>13201.0</td>\n",
       "      <td>8357652006919271207</td>\n",
       "      <td>2476204046042913282,8554418078603602994,134583...</td>\n",
       "      <td>NaN</td>\n",
       "      <td>14013827224523385745,13924136629787418617,2377...</td>\n",
       "      <td>14246580660963495450,14013827224523385745,1392...</td>\n",
       "      <td>1762300949447501459,10862091294928797775,17757...</td>\n",
       "    </tr>\n",
       "    <tr>\n",
       "      <th>1</th>\n",
       "      <td>7627190405505990576</td>\n",
       "      <td>2074053462250506553</td>\n",
       "      <td>9187114477394342385</td>\n",
       "      <td>80.5</td>\n",
       "      <td>17031989361596781719</td>\n",
       "      <td>2482907635064340274</td>\n",
       "      <td>1.510401e+12</td>\n",
       "      <td>1492766587354</td>\n",
       "      <td>40.0</td>\n",
       "      <td>563432.0</td>\n",
       "      <td>21671.40</td>\n",
       "      <td>66751.0</td>\n",
       "      <td>5188958299097531544,15505839116207172634,50464...</td>\n",
       "      <td>8203966861509557252,4467955570934160827,160020...</td>\n",
       "      <td>NaN</td>\n",
       "      <td>14403554660461140826,7298585421408191730,20182...</td>\n",
       "      <td>14403554660461140826,7298585421408191730,12653...</td>\n",
       "      <td>11126431486381279098,7576661479484112078,16319...</td>\n",
       "    </tr>\n",
       "    <tr>\n",
       "      <th>2</th>\n",
       "      <td>15904781993835271952</td>\n",
       "      <td>14389801454382229828</td>\n",
       "      <td>9187114477394342385</td>\n",
       "      <td>17.5</td>\n",
       "      <td>1444343713554106169</td>\n",
       "      <td>4413746446093453918</td>\n",
       "      <td>1.510677e+12</td>\n",
       "      <td>1506696103306</td>\n",
       "      <td>5.5</td>\n",
       "      <td>151819.0</td>\n",
       "      <td>50607.00</td>\n",
       "      <td>80701.0</td>\n",
       "      <td>15817853823330467565,16494063293191237784,7011...</td>\n",
       "      <td>2711551123056906206,8687959850840099307,150265...</td>\n",
       "      <td>NaN</td>\n",
       "      <td>14403554660461140826,7975891937720071101,11676...</td>\n",
       "      <td>14403554660461140826,7975891937720071101,11676...</td>\n",
       "      <td>14403554660461140826,8687959850840099307,86879...</td>\n",
       "    </tr>\n",
       "    <tr>\n",
       "      <th>3</th>\n",
       "      <td>17142111567896929511</td>\n",
       "      <td>14060925946868445426</td>\n",
       "      <td>9187114477394342385</td>\n",
       "      <td>22.0</td>\n",
       "      <td>NaN</td>\n",
       "      <td>NaN</td>\n",
       "      <td>NaN</td>\n",
       "      <td>1509204445136</td>\n",
       "      <td>NaN</td>\n",
       "      <td>NaN</td>\n",
       "      <td>NaN</td>\n",
       "      <td>NaN</td>\n",
       "      <td>NaN</td>\n",
       "      <td>9732311525218397813,5352179907982106683,346976...</td>\n",
       "      <td>NaN</td>\n",
       "      <td>NaN</td>\n",
       "      <td>16001625138235046595</td>\n",
       "      <td>16001625138235046595,17369884179219021527,9732...</td>\n",
       "    </tr>\n",
       "    <tr>\n",
       "      <th>4</th>\n",
       "      <td>4625163854139688122</td>\n",
       "      <td>6958886741426617571</td>\n",
       "      <td>9187114477394342385</td>\n",
       "      <td>22.0</td>\n",
       "      <td>12212135394287568092</td>\n",
       "      <td>6149105099135817901</td>\n",
       "      <td>1.510752e+12</td>\n",
       "      <td>1505282780110</td>\n",
       "      <td>20.5</td>\n",
       "      <td>216986.0</td>\n",
       "      <td>16692.20</td>\n",
       "      <td>44551.0</td>\n",
       "      <td>9151800639560452006</td>\n",
       "      <td>18036760806039259242,11423154455480057061,1600...</td>\n",
       "      <td>NaN</td>\n",
       "      <td>NaN</td>\n",
       "      <td>6536810263819856580,5514145401570336318,394850...</td>\n",
       "      <td>6536810263819856580,10768691693138110034,55141...</td>\n",
       "    </tr>\n",
       "  </tbody>\n",
       "</table>\n",
       "</div>"
      ],
      "text/plain": [
       "                   c_01                   c_1                  c_2   n_1  \\\n",
       "0    141657817360361872  15189683899650635087  9187114477394342385  29.5   \n",
       "1   7627190405505990576   2074053462250506553  9187114477394342385  80.5   \n",
       "2  15904781993835271952  14389801454382229828  9187114477394342385  17.5   \n",
       "3  17142111567896929511  14060925946868445426  9187114477394342385  22.0   \n",
       "4   4625163854139688122   6958886741426617571  9187114477394342385  22.0   \n",
       "\n",
       "                    c_3                   c_4           t_1            t_2  \\\n",
       "0  11864323738170122005  18326526972445440863  1.510663e+12  1502284346352   \n",
       "1  17031989361596781719   2482907635064340274  1.510401e+12  1492766587354   \n",
       "2   1444343713554106169   4413746446093453918  1.510677e+12  1506696103306   \n",
       "3                   NaN                   NaN           NaN  1509204445136   \n",
       "4  12212135394287568092   6149105099135817901  1.510752e+12  1505282780110   \n",
       "\n",
       "    n_2       n_3       n_4      n_5  \\\n",
       "0  10.0   31040.5   5174.25  13201.0   \n",
       "1  40.0  563432.0  21671.40  66751.0   \n",
       "2   5.5  151819.0  50607.00  80701.0   \n",
       "3   NaN       NaN       NaN      NaN   \n",
       "4  20.5  216986.0  16692.20  44551.0   \n",
       "\n",
       "                                                 m_1  \\\n",
       "0                                8357652006919271207   \n",
       "1  5188958299097531544,15505839116207172634,50464...   \n",
       "2  15817853823330467565,16494063293191237784,7011...   \n",
       "3                                                NaN   \n",
       "4                                9151800639560452006   \n",
       "\n",
       "                                                 m_2  m_3  \\\n",
       "0  2476204046042913282,8554418078603602994,134583...  NaN   \n",
       "1  8203966861509557252,4467955570934160827,160020...  NaN   \n",
       "2  2711551123056906206,8687959850840099307,150265...  NaN   \n",
       "3  9732311525218397813,5352179907982106683,346976...  NaN   \n",
       "4  18036760806039259242,11423154455480057061,1600...  NaN   \n",
       "\n",
       "                                                 m_4  \\\n",
       "0  14013827224523385745,13924136629787418617,2377...   \n",
       "1  14403554660461140826,7298585421408191730,20182...   \n",
       "2  14403554660461140826,7975891937720071101,11676...   \n",
       "3                                                NaN   \n",
       "4                                                NaN   \n",
       "\n",
       "                                                 m_5  \\\n",
       "0  14246580660963495450,14013827224523385745,1392...   \n",
       "1  14403554660461140826,7298585421408191730,12653...   \n",
       "2  14403554660461140826,7975891937720071101,11676...   \n",
       "3                               16001625138235046595   \n",
       "4  6536810263819856580,5514145401570336318,394850...   \n",
       "\n",
       "                                                 m_6  \n",
       "0  1762300949447501459,10862091294928797775,17757...  \n",
       "1  11126431486381279098,7576661479484112078,16319...  \n",
       "2  14403554660461140826,8687959850840099307,86879...  \n",
       "3  16001625138235046595,17369884179219021527,9732...  \n",
       "4  6536810263819856580,10768691693138110034,55141...  "
      ]
     },
     "execution_count": 12,
     "metadata": {},
     "output_type": "execute_result"
    }
   ],
   "source": [
    "table1 = pd.read_csv(table_files[0], sep='\\t')\n",
    "print(table1.shape)\n",
    "table1.head()"
   ]
  },
  {
   "cell_type": "code",
   "execution_count": 46,
   "metadata": {
    "ExecuteTime": {
     "end_time": "2019-05-28T23:55:49.420924Z",
     "start_time": "2019-05-28T23:55:49.394851Z"
    }
   },
   "outputs": [
    {
     "data": {
      "text/plain": [
       "'8357652006919271207'"
      ]
     },
     "execution_count": 46,
     "metadata": {},
     "output_type": "execute_result"
    }
   ],
   "source": [
    "table1.m_1[0]"
   ]
  },
  {
   "cell_type": "code",
   "execution_count": 44,
   "metadata": {
    "ExecuteTime": {
     "end_time": "2019-05-28T23:50:44.973589Z",
     "start_time": "2019-05-28T23:50:44.932204Z"
    }
   },
   "outputs": [
    {
     "data": {
      "text/plain": [
       "c_01    13892\n",
       "c_1     13892\n",
       "c_2     13892\n",
       "n_1     13892\n",
       "c_3     13892\n",
       "c_4     13892\n",
       "t_1      7201\n",
       "t_2     13892\n",
       "n_2      7201\n",
       "n_3      7196\n",
       "n_4      7196\n",
       "n_5      7196\n",
       "m_1      5461\n",
       "m_2     11923\n",
       "m_3      1434\n",
       "m_4      7664\n",
       "m_5     10634\n",
       "m_6     11917\n",
       "dtype: int64"
      ]
     },
     "execution_count": 44,
     "metadata": {},
     "output_type": "execute_result"
    }
   ],
   "source": [
    "table1.count()"
   ]
  },
  {
   "cell_type": "code",
   "execution_count": 16,
   "metadata": {
    "ExecuteTime": {
     "end_time": "2019-05-28T22:00:16.237443Z",
     "start_time": "2019-05-28T22:00:16.205948Z"
    }
   },
   "outputs": [],
   "source": [
    "from collections import Counter"
   ]
  },
  {
   "cell_type": "code",
   "execution_count": 51,
   "metadata": {
    "ExecuteTime": {
     "end_time": "2019-05-29T00:05:15.097426Z",
     "start_time": "2019-05-29T00:05:14.862508Z"
    }
   },
   "outputs": [],
   "source": [
    "for col in [x for x in table1.columns if x.startswith('m_')]:\n",
    "    table1['n_{}_count'.format(col)] = table1[col].apply(lambda x: len(x.split(',')) if pd.notnull(x) else 0)"
   ]
  },
  {
   "cell_type": "code",
   "execution_count": 52,
   "metadata": {
    "ExecuteTime": {
     "end_time": "2019-05-29T00:05:18.416732Z",
     "start_time": "2019-05-29T00:05:18.379035Z"
    }
   },
   "outputs": [
    {
     "data": {
      "text/html": [
       "<div>\n",
       "<style scoped>\n",
       "    .dataframe tbody tr th:only-of-type {\n",
       "        vertical-align: middle;\n",
       "    }\n",
       "\n",
       "    .dataframe tbody tr th {\n",
       "        vertical-align: top;\n",
       "    }\n",
       "\n",
       "    .dataframe thead th {\n",
       "        text-align: right;\n",
       "    }\n",
       "</style>\n",
       "<table border=\"1\" class=\"dataframe\">\n",
       "  <thead>\n",
       "    <tr style=\"text-align: right;\">\n",
       "      <th></th>\n",
       "      <th>c_01</th>\n",
       "      <th>c_1</th>\n",
       "      <th>c_2</th>\n",
       "      <th>n_1</th>\n",
       "      <th>c_3</th>\n",
       "      <th>c_4</th>\n",
       "      <th>t_1</th>\n",
       "      <th>t_2</th>\n",
       "      <th>n_2</th>\n",
       "      <th>n_3</th>\n",
       "      <th>n_4</th>\n",
       "      <th>n_5</th>\n",
       "      <th>m_1</th>\n",
       "      <th>m_2</th>\n",
       "      <th>m_3</th>\n",
       "      <th>m_4</th>\n",
       "      <th>m_5</th>\n",
       "      <th>m_6</th>\n",
       "      <th>n_m_1_count</th>\n",
       "      <th>n_m_2_count</th>\n",
       "      <th>n_m_3_count</th>\n",
       "      <th>n_m_4_count</th>\n",
       "      <th>n_m_5_count</th>\n",
       "      <th>n_m_6_count</th>\n",
       "    </tr>\n",
       "  </thead>\n",
       "  <tbody>\n",
       "    <tr>\n",
       "      <th>0</th>\n",
       "      <td>141657817360361872</td>\n",
       "      <td>15189683899650635087</td>\n",
       "      <td>9187114477394342385</td>\n",
       "      <td>29.5</td>\n",
       "      <td>11864323738170122005</td>\n",
       "      <td>18326526972445440863</td>\n",
       "      <td>1.510663e+12</td>\n",
       "      <td>1502284346352</td>\n",
       "      <td>10.0</td>\n",
       "      <td>31040.5</td>\n",
       "      <td>5174.25</td>\n",
       "      <td>13201.0</td>\n",
       "      <td>8357652006919271207</td>\n",
       "      <td>2476204046042913282,8554418078603602994,134583...</td>\n",
       "      <td>NaN</td>\n",
       "      <td>14013827224523385745,13924136629787418617,2377...</td>\n",
       "      <td>14246580660963495450,14013827224523385745,1392...</td>\n",
       "      <td>1762300949447501459,10862091294928797775,17757...</td>\n",
       "      <td>1</td>\n",
       "      <td>52</td>\n",
       "      <td>0</td>\n",
       "      <td>8</td>\n",
       "      <td>11</td>\n",
       "      <td>56</td>\n",
       "    </tr>\n",
       "    <tr>\n",
       "      <th>1</th>\n",
       "      <td>7627190405505990576</td>\n",
       "      <td>2074053462250506553</td>\n",
       "      <td>9187114477394342385</td>\n",
       "      <td>80.5</td>\n",
       "      <td>17031989361596781719</td>\n",
       "      <td>2482907635064340274</td>\n",
       "      <td>1.510401e+12</td>\n",
       "      <td>1492766587354</td>\n",
       "      <td>40.0</td>\n",
       "      <td>563432.0</td>\n",
       "      <td>21671.40</td>\n",
       "      <td>66751.0</td>\n",
       "      <td>5188958299097531544,15505839116207172634,50464...</td>\n",
       "      <td>8203966861509557252,4467955570934160827,160020...</td>\n",
       "      <td>NaN</td>\n",
       "      <td>14403554660461140826,7298585421408191730,20182...</td>\n",
       "      <td>14403554660461140826,7298585421408191730,12653...</td>\n",
       "      <td>11126431486381279098,7576661479484112078,16319...</td>\n",
       "      <td>257</td>\n",
       "      <td>599</td>\n",
       "      <td>0</td>\n",
       "      <td>5</td>\n",
       "      <td>22</td>\n",
       "      <td>737</td>\n",
       "    </tr>\n",
       "    <tr>\n",
       "      <th>2</th>\n",
       "      <td>15904781993835271952</td>\n",
       "      <td>14389801454382229828</td>\n",
       "      <td>9187114477394342385</td>\n",
       "      <td>17.5</td>\n",
       "      <td>1444343713554106169</td>\n",
       "      <td>4413746446093453918</td>\n",
       "      <td>1.510677e+12</td>\n",
       "      <td>1506696103306</td>\n",
       "      <td>5.5</td>\n",
       "      <td>151819.0</td>\n",
       "      <td>50607.00</td>\n",
       "      <td>80701.0</td>\n",
       "      <td>15817853823330467565,16494063293191237784,7011...</td>\n",
       "      <td>2711551123056906206,8687959850840099307,150265...</td>\n",
       "      <td>NaN</td>\n",
       "      <td>14403554660461140826,7975891937720071101,11676...</td>\n",
       "      <td>14403554660461140826,7975891937720071101,11676...</td>\n",
       "      <td>14403554660461140826,8687959850840099307,86879...</td>\n",
       "      <td>11</td>\n",
       "      <td>63</td>\n",
       "      <td>0</td>\n",
       "      <td>21</td>\n",
       "      <td>37</td>\n",
       "      <td>74</td>\n",
       "    </tr>\n",
       "    <tr>\n",
       "      <th>3</th>\n",
       "      <td>17142111567896929511</td>\n",
       "      <td>14060925946868445426</td>\n",
       "      <td>9187114477394342385</td>\n",
       "      <td>22.0</td>\n",
       "      <td>NaN</td>\n",
       "      <td>NaN</td>\n",
       "      <td>NaN</td>\n",
       "      <td>1509204445136</td>\n",
       "      <td>NaN</td>\n",
       "      <td>NaN</td>\n",
       "      <td>NaN</td>\n",
       "      <td>NaN</td>\n",
       "      <td>NaN</td>\n",
       "      <td>9732311525218397813,5352179907982106683,346976...</td>\n",
       "      <td>NaN</td>\n",
       "      <td>NaN</td>\n",
       "      <td>16001625138235046595</td>\n",
       "      <td>16001625138235046595,17369884179219021527,9732...</td>\n",
       "      <td>0</td>\n",
       "      <td>7</td>\n",
       "      <td>0</td>\n",
       "      <td>0</td>\n",
       "      <td>1</td>\n",
       "      <td>7</td>\n",
       "    </tr>\n",
       "    <tr>\n",
       "      <th>4</th>\n",
       "      <td>4625163854139688122</td>\n",
       "      <td>6958886741426617571</td>\n",
       "      <td>9187114477394342385</td>\n",
       "      <td>22.0</td>\n",
       "      <td>12212135394287568092</td>\n",
       "      <td>6149105099135817901</td>\n",
       "      <td>1.510752e+12</td>\n",
       "      <td>1505282780110</td>\n",
       "      <td>20.5</td>\n",
       "      <td>216986.0</td>\n",
       "      <td>16692.20</td>\n",
       "      <td>44551.0</td>\n",
       "      <td>9151800639560452006</td>\n",
       "      <td>18036760806039259242,11423154455480057061,1600...</td>\n",
       "      <td>NaN</td>\n",
       "      <td>NaN</td>\n",
       "      <td>6536810263819856580,5514145401570336318,394850...</td>\n",
       "      <td>6536810263819856580,10768691693138110034,55141...</td>\n",
       "      <td>1</td>\n",
       "      <td>60</td>\n",
       "      <td>0</td>\n",
       "      <td>0</td>\n",
       "      <td>19</td>\n",
       "      <td>66</td>\n",
       "    </tr>\n",
       "  </tbody>\n",
       "</table>\n",
       "</div>"
      ],
      "text/plain": [
       "                   c_01                   c_1                  c_2   n_1  \\\n",
       "0    141657817360361872  15189683899650635087  9187114477394342385  29.5   \n",
       "1   7627190405505990576   2074053462250506553  9187114477394342385  80.5   \n",
       "2  15904781993835271952  14389801454382229828  9187114477394342385  17.5   \n",
       "3  17142111567896929511  14060925946868445426  9187114477394342385  22.0   \n",
       "4   4625163854139688122   6958886741426617571  9187114477394342385  22.0   \n",
       "\n",
       "                    c_3                   c_4           t_1            t_2  \\\n",
       "0  11864323738170122005  18326526972445440863  1.510663e+12  1502284346352   \n",
       "1  17031989361596781719   2482907635064340274  1.510401e+12  1492766587354   \n",
       "2   1444343713554106169   4413746446093453918  1.510677e+12  1506696103306   \n",
       "3                   NaN                   NaN           NaN  1509204445136   \n",
       "4  12212135394287568092   6149105099135817901  1.510752e+12  1505282780110   \n",
       "\n",
       "    n_2       n_3       n_4      n_5  \\\n",
       "0  10.0   31040.5   5174.25  13201.0   \n",
       "1  40.0  563432.0  21671.40  66751.0   \n",
       "2   5.5  151819.0  50607.00  80701.0   \n",
       "3   NaN       NaN       NaN      NaN   \n",
       "4  20.5  216986.0  16692.20  44551.0   \n",
       "\n",
       "                                                 m_1  \\\n",
       "0                                8357652006919271207   \n",
       "1  5188958299097531544,15505839116207172634,50464...   \n",
       "2  15817853823330467565,16494063293191237784,7011...   \n",
       "3                                                NaN   \n",
       "4                                9151800639560452006   \n",
       "\n",
       "                                                 m_2  m_3  \\\n",
       "0  2476204046042913282,8554418078603602994,134583...  NaN   \n",
       "1  8203966861509557252,4467955570934160827,160020...  NaN   \n",
       "2  2711551123056906206,8687959850840099307,150265...  NaN   \n",
       "3  9732311525218397813,5352179907982106683,346976...  NaN   \n",
       "4  18036760806039259242,11423154455480057061,1600...  NaN   \n",
       "\n",
       "                                                 m_4  \\\n",
       "0  14013827224523385745,13924136629787418617,2377...   \n",
       "1  14403554660461140826,7298585421408191730,20182...   \n",
       "2  14403554660461140826,7975891937720071101,11676...   \n",
       "3                                                NaN   \n",
       "4                                                NaN   \n",
       "\n",
       "                                                 m_5  \\\n",
       "0  14246580660963495450,14013827224523385745,1392...   \n",
       "1  14403554660461140826,7298585421408191730,12653...   \n",
       "2  14403554660461140826,7975891937720071101,11676...   \n",
       "3                               16001625138235046595   \n",
       "4  6536810263819856580,5514145401570336318,394850...   \n",
       "\n",
       "                                                 m_6  n_m_1_count  \\\n",
       "0  1762300949447501459,10862091294928797775,17757...            1   \n",
       "1  11126431486381279098,7576661479484112078,16319...          257   \n",
       "2  14403554660461140826,8687959850840099307,86879...           11   \n",
       "3  16001625138235046595,17369884179219021527,9732...            0   \n",
       "4  6536810263819856580,10768691693138110034,55141...            1   \n",
       "\n",
       "   n_m_2_count  n_m_3_count  n_m_4_count  n_m_5_count  n_m_6_count  \n",
       "0           52            0            8           11           56  \n",
       "1          599            0            5           22          737  \n",
       "2           63            0           21           37           74  \n",
       "3            7            0            0            1            7  \n",
       "4           60            0            0           19           66  "
      ]
     },
     "execution_count": 52,
     "metadata": {},
     "output_type": "execute_result"
    }
   ],
   "source": [
    "table1.head()"
   ]
  },
  {
   "cell_type": "code",
   "execution_count": 17,
   "metadata": {
    "ExecuteTime": {
     "end_time": "2019-05-28T22:01:18.406838Z",
     "start_time": "2019-05-28T22:01:18.350232Z"
    }
   },
   "outputs": [
    {
     "data": {
      "text/plain": [
       "26067"
      ]
     },
     "execution_count": 17,
     "metadata": {},
     "output_type": "execute_result"
    }
   ],
   "source": [
    "m_1 = Counter(','.join(table1.m_1.fillna('').tolist()).split(','))\n",
    "len(m_1)"
   ]
  },
  {
   "cell_type": "code",
   "execution_count": 53,
   "metadata": {
    "ExecuteTime": {
     "end_time": "2019-05-29T00:14:27.986913Z",
     "start_time": "2019-05-29T00:14:27.962049Z"
    }
   },
   "outputs": [],
   "source": [
    "del m_1['']"
   ]
  },
  {
   "cell_type": "code",
   "execution_count": 54,
   "metadata": {
    "ExecuteTime": {
     "end_time": "2019-05-29T00:14:30.884561Z",
     "start_time": "2019-05-29T00:14:30.834141Z"
    }
   },
   "outputs": [
    {
     "data": {
      "text/html": [
       "<div>\n",
       "<style scoped>\n",
       "    .dataframe tbody tr th:only-of-type {\n",
       "        vertical-align: middle;\n",
       "    }\n",
       "\n",
       "    .dataframe tbody tr th {\n",
       "        vertical-align: top;\n",
       "    }\n",
       "\n",
       "    .dataframe thead th {\n",
       "        text-align: right;\n",
       "    }\n",
       "</style>\n",
       "<table border=\"1\" class=\"dataframe\">\n",
       "  <thead>\n",
       "    <tr style=\"text-align: right;\">\n",
       "      <th></th>\n",
       "      <th>counts</th>\n",
       "    </tr>\n",
       "  </thead>\n",
       "  <tbody>\n",
       "    <tr>\n",
       "      <th>count</th>\n",
       "      <td>26066.000000</td>\n",
       "    </tr>\n",
       "    <tr>\n",
       "      <th>mean</th>\n",
       "      <td>4.335303</td>\n",
       "    </tr>\n",
       "    <tr>\n",
       "      <th>std</th>\n",
       "      <td>4.858621</td>\n",
       "    </tr>\n",
       "    <tr>\n",
       "      <th>min</th>\n",
       "      <td>1.000000</td>\n",
       "    </tr>\n",
       "    <tr>\n",
       "      <th>25%</th>\n",
       "      <td>1.000000</td>\n",
       "    </tr>\n",
       "    <tr>\n",
       "      <th>50%</th>\n",
       "      <td>3.000000</td>\n",
       "    </tr>\n",
       "    <tr>\n",
       "      <th>75%</th>\n",
       "      <td>5.000000</td>\n",
       "    </tr>\n",
       "    <tr>\n",
       "      <th>max</th>\n",
       "      <td>68.000000</td>\n",
       "    </tr>\n",
       "  </tbody>\n",
       "</table>\n",
       "</div>"
      ],
      "text/plain": [
       "             counts\n",
       "count  26066.000000\n",
       "mean       4.335303\n",
       "std        4.858621\n",
       "min        1.000000\n",
       "25%        1.000000\n",
       "50%        3.000000\n",
       "75%        5.000000\n",
       "max       68.000000"
      ]
     },
     "execution_count": 54,
     "metadata": {},
     "output_type": "execute_result"
    }
   ],
   "source": [
    "d_m1 = pd.DataFrame.from_dict(m_1, orient='index', columns=['counts'])\n",
    "d_m1.sort_values('counts', ascending=False, inplace=True)\n",
    "d_m1.describe()"
   ]
  },
  {
   "cell_type": "code",
   "execution_count": 55,
   "metadata": {
    "ExecuteTime": {
     "end_time": "2019-05-29T00:14:36.374188Z",
     "start_time": "2019-05-29T00:14:36.346085Z"
    }
   },
   "outputs": [
    {
     "data": {
      "text/html": [
       "<div>\n",
       "<style scoped>\n",
       "    .dataframe tbody tr th:only-of-type {\n",
       "        vertical-align: middle;\n",
       "    }\n",
       "\n",
       "    .dataframe tbody tr th {\n",
       "        vertical-align: top;\n",
       "    }\n",
       "\n",
       "    .dataframe thead th {\n",
       "        text-align: right;\n",
       "    }\n",
       "</style>\n",
       "<table border=\"1\" class=\"dataframe\">\n",
       "  <thead>\n",
       "    <tr style=\"text-align: right;\">\n",
       "      <th></th>\n",
       "      <th>counts</th>\n",
       "    </tr>\n",
       "  </thead>\n",
       "  <tbody>\n",
       "    <tr>\n",
       "      <th>4581671456845451379</th>\n",
       "      <td>68</td>\n",
       "    </tr>\n",
       "    <tr>\n",
       "      <th>10249955626925342958</th>\n",
       "      <td>67</td>\n",
       "    </tr>\n",
       "    <tr>\n",
       "      <th>7692531997628049166</th>\n",
       "      <td>67</td>\n",
       "    </tr>\n",
       "    <tr>\n",
       "      <th>12750884041313425463</th>\n",
       "      <td>66</td>\n",
       "    </tr>\n",
       "    <tr>\n",
       "      <th>11022184443846179732</th>\n",
       "      <td>65</td>\n",
       "    </tr>\n",
       "    <tr>\n",
       "      <th>9553178577389741407</th>\n",
       "      <td>64</td>\n",
       "    </tr>\n",
       "    <tr>\n",
       "      <th>12875577006547398436</th>\n",
       "      <td>63</td>\n",
       "    </tr>\n",
       "    <tr>\n",
       "      <th>8248983982429402196</th>\n",
       "      <td>62</td>\n",
       "    </tr>\n",
       "    <tr>\n",
       "      <th>17964053711461823728</th>\n",
       "      <td>55</td>\n",
       "    </tr>\n",
       "    <tr>\n",
       "      <th>4076543237516216613</th>\n",
       "      <td>55</td>\n",
       "    </tr>\n",
       "  </tbody>\n",
       "</table>\n",
       "</div>"
      ],
      "text/plain": [
       "                      counts\n",
       "4581671456845451379       68\n",
       "10249955626925342958      67\n",
       "7692531997628049166       67\n",
       "12750884041313425463      66\n",
       "11022184443846179732      65\n",
       "9553178577389741407       64\n",
       "12875577006547398436      63\n",
       "8248983982429402196       62\n",
       "17964053711461823728      55\n",
       "4076543237516216613       55"
      ]
     },
     "execution_count": 55,
     "metadata": {},
     "output_type": "execute_result"
    }
   ],
   "source": [
    "d_m1.head(10)"
   ]
  },
  {
   "cell_type": "code",
   "execution_count": 43,
   "metadata": {
    "ExecuteTime": {
     "end_time": "2019-05-28T23:50:04.112049Z",
     "start_time": "2019-05-28T23:50:04.081931Z"
    }
   },
   "outputs": [
    {
     "data": {
      "text/html": [
       "<div>\n",
       "<style scoped>\n",
       "    .dataframe tbody tr th:only-of-type {\n",
       "        vertical-align: middle;\n",
       "    }\n",
       "\n",
       "    .dataframe tbody tr th {\n",
       "        vertical-align: top;\n",
       "    }\n",
       "\n",
       "    .dataframe thead th {\n",
       "        text-align: right;\n",
       "    }\n",
       "</style>\n",
       "<table border=\"1\" class=\"dataframe\">\n",
       "  <thead>\n",
       "    <tr style=\"text-align: right;\">\n",
       "      <th></th>\n",
       "      <th>counts</th>\n",
       "    </tr>\n",
       "  </thead>\n",
       "  <tbody>\n",
       "    <tr>\n",
       "      <th>11160625029512458874</th>\n",
       "      <td>1</td>\n",
       "    </tr>\n",
       "    <tr>\n",
       "      <th>17465399201897298927</th>\n",
       "      <td>1</td>\n",
       "    </tr>\n",
       "    <tr>\n",
       "      <th>2652975021539624255</th>\n",
       "      <td>1</td>\n",
       "    </tr>\n",
       "    <tr>\n",
       "      <th>15830998780470729551</th>\n",
       "      <td>1</td>\n",
       "    </tr>\n",
       "    <tr>\n",
       "      <th>12808870547386487784</th>\n",
       "      <td>1</td>\n",
       "    </tr>\n",
       "    <tr>\n",
       "      <th>3710776912578409011</th>\n",
       "      <td>1</td>\n",
       "    </tr>\n",
       "    <tr>\n",
       "      <th>17960807652800371168</th>\n",
       "      <td>1</td>\n",
       "    </tr>\n",
       "    <tr>\n",
       "      <th>17686548374344430173</th>\n",
       "      <td>1</td>\n",
       "    </tr>\n",
       "    <tr>\n",
       "      <th>17442523281611907043</th>\n",
       "      <td>1</td>\n",
       "    </tr>\n",
       "    <tr>\n",
       "      <th>13601585136116393818</th>\n",
       "      <td>1</td>\n",
       "    </tr>\n",
       "  </tbody>\n",
       "</table>\n",
       "</div>"
      ],
      "text/plain": [
       "                      counts\n",
       "11160625029512458874       1\n",
       "17465399201897298927       1\n",
       "2652975021539624255        1\n",
       "15830998780470729551       1\n",
       "12808870547386487784       1\n",
       "3710776912578409011        1\n",
       "17960807652800371168       1\n",
       "17686548374344430173       1\n",
       "17442523281611907043       1\n",
       "13601585136116393818       1"
      ]
     },
     "execution_count": 43,
     "metadata": {},
     "output_type": "execute_result"
    }
   ],
   "source": [
    "d_m1.tail(10)"
   ]
  },
  {
   "cell_type": "code",
   "execution_count": 37,
   "metadata": {
    "ExecuteTime": {
     "end_time": "2019-05-28T22:53:57.606256Z",
     "start_time": "2019-05-28T22:53:57.575804Z"
    }
   },
   "outputs": [
    {
     "data": {
      "text/plain": [
       "183"
      ]
     },
     "execution_count": 37,
     "metadata": {},
     "output_type": "execute_result"
    }
   ],
   "source": [
    "(d_m1.counts > len(m_1) * .001).sum()"
   ]
  },
  {
   "cell_type": "code",
   "execution_count": 31,
   "metadata": {
    "ExecuteTime": {
     "end_time": "2019-05-28T22:29:41.794268Z",
     "start_time": "2019-05-28T22:29:41.772251Z"
    }
   },
   "outputs": [
    {
     "data": {
      "text/plain": [
       "26.067"
      ]
     },
     "execution_count": 31,
     "metadata": {},
     "output_type": "execute_result"
    }
   ],
   "source": [
    "len(m_1) * .001"
   ]
  },
  {
   "cell_type": "code",
   "execution_count": 38,
   "metadata": {
    "ExecuteTime": {
     "end_time": "2019-05-28T22:57:24.919586Z",
     "start_time": "2019-05-28T22:57:24.888910Z"
    }
   },
   "outputs": [
    {
     "data": {
      "text/plain": [
       "counts    59\n",
       "dtype: int64"
      ]
     },
     "execution_count": 38,
     "metadata": {},
     "output_type": "execute_result"
    }
   ],
   "source": [
    "d_m1.nunique()"
   ]
  },
  {
   "cell_type": "code",
   "execution_count": 42,
   "metadata": {
    "ExecuteTime": {
     "end_time": "2019-05-28T23:49:47.543895Z",
     "start_time": "2019-05-28T23:49:47.490623Z"
    }
   },
   "outputs": [
    {
     "data": {
      "text/plain": [
       "['asdfaf']"
      ]
     },
     "execution_count": 42,
     "metadata": {},
     "output_type": "execute_result"
    }
   ],
   "source": [
    "'asdfaf'.split(',')"
   ]
  },
  {
   "cell_type": "code",
   "execution_count": null,
   "metadata": {},
   "outputs": [],
   "source": []
  }
 ],
 "metadata": {
  "kernelspec": {
   "display_name": "Python 3",
   "language": "python",
   "name": "python3"
  },
  "language_info": {
   "codemirror_mode": {
    "name": "ipython",
    "version": 3
   },
   "file_extension": ".py",
   "mimetype": "text/x-python",
   "name": "python",
   "nbconvert_exporter": "python",
   "pygments_lexer": "ipython3",
   "version": "3.6.8"
  },
  "toc": {
   "base_numbering": 1,
   "nav_menu": {},
   "number_sections": true,
   "sideBar": true,
   "skip_h1_title": false,
   "title_cell": "Table of Contents",
   "title_sidebar": "Contents",
   "toc_cell": false,
   "toc_position": {},
   "toc_section_display": true,
   "toc_window_display": false
  }
 },
 "nbformat": 4,
 "nbformat_minor": 2
}
