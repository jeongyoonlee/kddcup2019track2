{
 "cells": [
  {
   "cell_type": "code",
   "execution_count": 2,
   "metadata": {
    "ExecuteTime": {
     "end_time": "2019-05-12T18:56:10.675319Z",
     "start_time": "2019-05-12T18:56:10.500224Z"
    }
   },
   "outputs": [
    {
     "name": "stdout",
     "output_type": "stream",
     "text": [
      "The autoreload extension is already loaded. To reload it, use:\n",
      "  %reload_ext autoreload\n"
     ]
    }
   ],
   "source": [
    "%load_ext autoreload\n",
    "%autoreload 2\n",
    "%matplotlib inline"
   ]
  },
  {
   "cell_type": "code",
   "execution_count": 8,
   "metadata": {
    "ExecuteTime": {
     "end_time": "2019-05-12T19:09:38.603105Z",
     "start_time": "2019-05-12T19:09:38.565761Z"
    }
   },
   "outputs": [],
   "source": [
    "from glob import glob\n",
    "import json\n",
    "from matplotlib import pyplot as plt\n",
    "import numpy as np\n",
    "import os\n",
    "import pandas as pd\n",
    "from pprint import pprint\n",
    "import seaborn as sns"
   ]
  },
  {
   "cell_type": "code",
   "execution_count": 4,
   "metadata": {
    "ExecuteTime": {
     "end_time": "2019-05-12T18:57:04.421189Z",
     "start_time": "2019-05-12T18:57:04.391439Z"
    }
   },
   "outputs": [],
   "source": [
    "plt.style.use('fivethirtyeight')\n",
    "pd.set_option('max_columns', 100)"
   ]
  },
  {
   "cell_type": "code",
   "execution_count": 6,
   "metadata": {
    "ExecuteTime": {
     "end_time": "2019-05-12T19:09:00.368710Z",
     "start_time": "2019-05-12T19:09:00.335333Z"
    }
   },
   "outputs": [],
   "source": [
    "data_dir = '../data/data_public/E'\n",
    "build_dir = '../build/'\n",
    "model_dir = os.path.join(build_dir, 'model')\n",
    "metric_dir = os.path.join(build_dir, 'metric')\n",
    "val_dir = os.path.join(build_dir, 'val')\n",
    "tst_dir = os.path.join(build_dir, 'tst')\n",
    "sub_dir = os.path.join(build_dir, 'sub')\n",
    "\n",
    "info_file = os.path.join(data_dir, 'train', 'info.json')\n",
    "train_feature_file = os.path.join(data_dir, 'train', 'main_train.data')\n",
    "train_label_file = os.path.join(data_dir, 'train', 'main_train.solution')\n",
    "test_feature_file = os.path.join(data_dir, 'test', 'main_test.data')\n",
    "table_files = glob(os.path.join(data_dir, 'train', 'table_*.data'))"
   ]
  },
  {
   "cell_type": "code",
   "execution_count": 7,
   "metadata": {
    "ExecuteTime": {
     "end_time": "2019-05-12T19:09:03.605962Z",
     "start_time": "2019-05-12T19:09:03.574402Z"
    }
   },
   "outputs": [
    {
     "data": {
      "text/plain": [
       "['../data/data_public/E/train/table_1.data',\n",
       " '../data/data_public/E/train/table_3.data',\n",
       " '../data/data_public/E/train/table_2.data']"
      ]
     },
     "execution_count": 7,
     "metadata": {},
     "output_type": "execute_result"
    }
   ],
   "source": [
    "table_files"
   ]
  },
  {
   "cell_type": "code",
   "execution_count": 9,
   "metadata": {
    "ExecuteTime": {
     "end_time": "2019-05-12T19:09:45.124896Z",
     "start_time": "2019-05-12T19:09:45.079949Z"
    }
   },
   "outputs": [
    {
     "name": "stdout",
     "output_type": "stream",
     "text": [
      "{'relations': [{'key': ['c_01'],\n",
      "                'table_A': 'main',\n",
      "                'table_B': 'table_1',\n",
      "                'type': 'many_to_one'},\n",
      "               {'key': ['c_02'],\n",
      "                'table_A': 'main',\n",
      "                'table_B': 'table_2',\n",
      "                'type': 'many_to_one'},\n",
      "               {'key': ['c_02'],\n",
      "                'table_A': 'main',\n",
      "                'table_B': 'table_3',\n",
      "                'type': 'many_to_one'}],\n",
      " 'start_time': 1550654179,\n",
      " 'tables': {'main': {'c_01': 'cat',\n",
      "                     'c_02': 'cat',\n",
      "                     'c_1': 'cat',\n",
      "                     'c_2': 'cat',\n",
      "                     'c_3': 'cat',\n",
      "                     'n_1': 'num',\n",
      "                     'n_2': 'num',\n",
      "                     't_01': 'time'},\n",
      "            'table_1': {'c_01': 'cat',\n",
      "                        'c_1': 'cat',\n",
      "                        'c_2': 'cat',\n",
      "                        'c_3': 'cat',\n",
      "                        'c_4': 'cat',\n",
      "                        'm_1': 'multi-cat',\n",
      "                        'm_2': 'multi-cat',\n",
      "                        'm_3': 'multi-cat',\n",
      "                        'm_4': 'multi-cat',\n",
      "                        'm_5': 'multi-cat',\n",
      "                        'm_6': 'multi-cat',\n",
      "                        'n_1': 'num',\n",
      "                        'n_2': 'num',\n",
      "                        'n_3': 'num',\n",
      "                        'n_4': 'num',\n",
      "                        'n_5': 'num',\n",
      "                        't_1': 'time',\n",
      "                        't_2': 'time'},\n",
      "            'table_2': {'c_02': 'cat',\n",
      "                        'c_1': 'cat',\n",
      "                        'c_2': 'cat',\n",
      "                        'c_3': 'cat',\n",
      "                        'c_4': 'cat',\n",
      "                        't_1': 'time'},\n",
      "            'table_3': {'c_02': 'cat', 'n_1': 'num', 't_01': 'time'}},\n",
      " 'time_budget': 300,\n",
      " 'time_col': 't_01'}\n"
     ]
    }
   ],
   "source": [
    "with open(info_file, 'r') as f:\n",
    "    info = json.load(f)\n",
    "    \n",
    "pprint(info)"
   ]
  },
  {
   "cell_type": "code",
   "execution_count": 15,
   "metadata": {
    "ExecuteTime": {
     "end_time": "2019-05-12T19:24:29.984591Z",
     "start_time": "2019-05-12T19:24:28.234790Z"
    }
   },
   "outputs": [
    {
     "name": "stdout",
     "output_type": "stream",
     "text": [
      "(226091, 8)\n"
     ]
    },
    {
     "data": {
      "text/html": [
       "<div>\n",
       "<style scoped>\n",
       "    .dataframe tbody tr th:only-of-type {\n",
       "        vertical-align: middle;\n",
       "    }\n",
       "\n",
       "    .dataframe tbody tr th {\n",
       "        vertical-align: top;\n",
       "    }\n",
       "\n",
       "    .dataframe thead th {\n",
       "        text-align: right;\n",
       "    }\n",
       "</style>\n",
       "<table border=\"1\" class=\"dataframe\">\n",
       "  <thead>\n",
       "    <tr style=\"text-align: right;\">\n",
       "      <th></th>\n",
       "      <th>t_01</th>\n",
       "      <th>c_1</th>\n",
       "      <th>c_2</th>\n",
       "      <th>n_1</th>\n",
       "      <th>n_2</th>\n",
       "      <th>c_3</th>\n",
       "      <th>c_02</th>\n",
       "      <th>c_01</th>\n",
       "    </tr>\n",
       "  </thead>\n",
       "  <tbody>\n",
       "    <tr>\n",
       "      <th>0</th>\n",
       "      <td>2017-11-20 14:59:05.767</td>\n",
       "      <td>15471562924606739488</td>\n",
       "      <td>14771401151246747869</td>\n",
       "      <td>2.5</td>\n",
       "      <td>1.0</td>\n",
       "      <td>14917135169840250636</td>\n",
       "      <td>4450187851156539593</td>\n",
       "      <td>14418132055204351816</td>\n",
       "    </tr>\n",
       "    <tr>\n",
       "      <th>1</th>\n",
       "      <td>2017-11-20 10:03:41.763</td>\n",
       "      <td>15471562924606739488</td>\n",
       "      <td>14771401151246747869</td>\n",
       "      <td>2.5</td>\n",
       "      <td>1.0</td>\n",
       "      <td>14917135169840250636</td>\n",
       "      <td>4450187851156539593</td>\n",
       "      <td>14418132055204351816</td>\n",
       "    </tr>\n",
       "    <tr>\n",
       "      <th>2</th>\n",
       "      <td>2017-11-20 09:34:46.558</td>\n",
       "      <td>15471562924606739488</td>\n",
       "      <td>14771401151246747869</td>\n",
       "      <td>2.5</td>\n",
       "      <td>1.0</td>\n",
       "      <td>2518459674421623809</td>\n",
       "      <td>4450187851156539593</td>\n",
       "      <td>14716824702713609146</td>\n",
       "    </tr>\n",
       "    <tr>\n",
       "      <th>3</th>\n",
       "      <td>2017-11-20 09:54:49.547</td>\n",
       "      <td>15471562924606739488</td>\n",
       "      <td>14771401151246747869</td>\n",
       "      <td>2.5</td>\n",
       "      <td>1.0</td>\n",
       "      <td>NaN</td>\n",
       "      <td>4450187851156539593</td>\n",
       "      <td>794432844916012287</td>\n",
       "    </tr>\n",
       "    <tr>\n",
       "      <th>4</th>\n",
       "      <td>2017-11-20 15:17:41.648</td>\n",
       "      <td>15471562924606739488</td>\n",
       "      <td>14771401151246747869</td>\n",
       "      <td>2.5</td>\n",
       "      <td>1.0</td>\n",
       "      <td>NaN</td>\n",
       "      <td>4450187851156539593</td>\n",
       "      <td>794432844916012287</td>\n",
       "    </tr>\n",
       "  </tbody>\n",
       "</table>\n",
       "</div>"
      ],
      "text/plain": [
       "                     t_01                   c_1                   c_2  n_1  \\\n",
       "0 2017-11-20 14:59:05.767  15471562924606739488  14771401151246747869  2.5   \n",
       "1 2017-11-20 10:03:41.763  15471562924606739488  14771401151246747869  2.5   \n",
       "2 2017-11-20 09:34:46.558  15471562924606739488  14771401151246747869  2.5   \n",
       "3 2017-11-20 09:54:49.547  15471562924606739488  14771401151246747869  2.5   \n",
       "4 2017-11-20 15:17:41.648  15471562924606739488  14771401151246747869  2.5   \n",
       "\n",
       "   n_2                   c_3                 c_02                  c_01  \n",
       "0  1.0  14917135169840250636  4450187851156539593  14418132055204351816  \n",
       "1  1.0  14917135169840250636  4450187851156539593  14418132055204351816  \n",
       "2  1.0   2518459674421623809  4450187851156539593  14716824702713609146  \n",
       "3  1.0                   NaN  4450187851156539593    794432844916012287  \n",
       "4  1.0                   NaN  4450187851156539593    794432844916012287  "
      ]
     },
     "execution_count": 15,
     "metadata": {},
     "output_type": "execute_result"
    }
   ],
   "source": [
    "trn_feature = pd.read_csv(train_feature_file, sep='\\t', parse_dates=['t_01'],\n",
    "                          date_parser=lambda x: pd.to_datetime(x, unit='ms'))\n",
    "print(trn_feature.shape)\n",
    "trn_feature.head()"
   ]
  },
  {
   "cell_type": "code",
   "execution_count": 16,
   "metadata": {
    "ExecuteTime": {
     "end_time": "2019-05-12T19:24:41.488881Z",
     "start_time": "2019-05-12T19:24:41.457631Z"
    }
   },
   "outputs": [
    {
     "data": {
      "text/plain": [
       "(Timestamp('2017-11-13 16:00:00.596000'),\n",
       " Timestamp('2017-11-20 15:59:58.669000'))"
      ]
     },
     "execution_count": 16,
     "metadata": {},
     "output_type": "execute_result"
    }
   ],
   "source": [
    "trn_feature.t_01.min(), trn_feature.t_01.max()"
   ]
  },
  {
   "cell_type": "code",
   "execution_count": 18,
   "metadata": {
    "ExecuteTime": {
     "end_time": "2019-05-12T19:25:03.683706Z",
     "start_time": "2019-05-12T19:25:03.411359Z"
    }
   },
   "outputs": [
    {
     "name": "stdout",
     "output_type": "stream",
     "text": [
      "(34867, 8)\n"
     ]
    },
    {
     "data": {
      "text/html": [
       "<div>\n",
       "<style scoped>\n",
       "    .dataframe tbody tr th:only-of-type {\n",
       "        vertical-align: middle;\n",
       "    }\n",
       "\n",
       "    .dataframe tbody tr th {\n",
       "        vertical-align: top;\n",
       "    }\n",
       "\n",
       "    .dataframe thead th {\n",
       "        text-align: right;\n",
       "    }\n",
       "</style>\n",
       "<table border=\"1\" class=\"dataframe\">\n",
       "  <thead>\n",
       "    <tr style=\"text-align: right;\">\n",
       "      <th></th>\n",
       "      <th>t_01</th>\n",
       "      <th>c_1</th>\n",
       "      <th>c_2</th>\n",
       "      <th>n_1</th>\n",
       "      <th>n_2</th>\n",
       "      <th>c_3</th>\n",
       "      <th>c_02</th>\n",
       "      <th>c_01</th>\n",
       "    </tr>\n",
       "  </thead>\n",
       "  <tbody>\n",
       "    <tr>\n",
       "      <th>0</th>\n",
       "      <td>2017-11-21 15:35:31.767</td>\n",
       "      <td>3617038521756852533</td>\n",
       "      <td>14771401151246747869</td>\n",
       "      <td>2.5</td>\n",
       "      <td>1.0</td>\n",
       "      <td>11000644521724705476</td>\n",
       "      <td>7512264136762122279</td>\n",
       "      <td>10335508634649872399</td>\n",
       "    </tr>\n",
       "    <tr>\n",
       "      <th>1</th>\n",
       "      <td>2017-11-21 05:55:06.763</td>\n",
       "      <td>3617038521756852533</td>\n",
       "      <td>14771401151246747869</td>\n",
       "      <td>2.5</td>\n",
       "      <td>1.0</td>\n",
       "      <td>3237176533105420620</td>\n",
       "      <td>7512264136762122279</td>\n",
       "      <td>15573771052877464161</td>\n",
       "    </tr>\n",
       "    <tr>\n",
       "      <th>2</th>\n",
       "      <td>2017-11-20 23:31:58.558</td>\n",
       "      <td>3617038521756852533</td>\n",
       "      <td>14771401151246747869</td>\n",
       "      <td>2.5</td>\n",
       "      <td>1.0</td>\n",
       "      <td>1212598175787106017</td>\n",
       "      <td>7512264136762122279</td>\n",
       "      <td>16687750388222936379</td>\n",
       "    </tr>\n",
       "    <tr>\n",
       "      <th>3</th>\n",
       "      <td>2017-11-20 23:57:50.547</td>\n",
       "      <td>3617038521756852533</td>\n",
       "      <td>14771401151246747869</td>\n",
       "      <td>2.5</td>\n",
       "      <td>1.0</td>\n",
       "      <td>NaN</td>\n",
       "      <td>7512264136762122279</td>\n",
       "      <td>11856320958148312023</td>\n",
       "    </tr>\n",
       "    <tr>\n",
       "      <th>4</th>\n",
       "      <td>2017-11-21 00:03:12.648</td>\n",
       "      <td>3617038521756852533</td>\n",
       "      <td>14771401151246747869</td>\n",
       "      <td>2.5</td>\n",
       "      <td>1.0</td>\n",
       "      <td>6015741703392652014</td>\n",
       "      <td>7512264136762122279</td>\n",
       "      <td>5622224912178203044</td>\n",
       "    </tr>\n",
       "  </tbody>\n",
       "</table>\n",
       "</div>"
      ],
      "text/plain": [
       "                     t_01                  c_1                   c_2  n_1  \\\n",
       "0 2017-11-21 15:35:31.767  3617038521756852533  14771401151246747869  2.5   \n",
       "1 2017-11-21 05:55:06.763  3617038521756852533  14771401151246747869  2.5   \n",
       "2 2017-11-20 23:31:58.558  3617038521756852533  14771401151246747869  2.5   \n",
       "3 2017-11-20 23:57:50.547  3617038521756852533  14771401151246747869  2.5   \n",
       "4 2017-11-21 00:03:12.648  3617038521756852533  14771401151246747869  2.5   \n",
       "\n",
       "   n_2                   c_3                 c_02                  c_01  \n",
       "0  1.0  11000644521724705476  7512264136762122279  10335508634649872399  \n",
       "1  1.0   3237176533105420620  7512264136762122279  15573771052877464161  \n",
       "2  1.0   1212598175787106017  7512264136762122279  16687750388222936379  \n",
       "3  1.0                   NaN  7512264136762122279  11856320958148312023  \n",
       "4  1.0   6015741703392652014  7512264136762122279   5622224912178203044  "
      ]
     },
     "execution_count": 18,
     "metadata": {},
     "output_type": "execute_result"
    }
   ],
   "source": [
    "tst_feature = pd.read_csv(test_feature_file, sep='\\t', parse_dates=['t_01'],\n",
    "                          date_parser=lambda x: pd.to_datetime(x, unit='ms'))\n",
    "print(tst_feature.shape)\n",
    "tst_feature.head()"
   ]
  },
  {
   "cell_type": "code",
   "execution_count": 19,
   "metadata": {
    "ExecuteTime": {
     "end_time": "2019-05-12T19:25:12.756197Z",
     "start_time": "2019-05-12T19:25:12.723568Z"
    }
   },
   "outputs": [
    {
     "data": {
      "text/plain": [
       "(Timestamp('2017-11-20 16:00:10.709000'),\n",
       " Timestamp('2017-11-21 15:59:57.654000'))"
      ]
     },
     "execution_count": 19,
     "metadata": {},
     "output_type": "execute_result"
    }
   ],
   "source": [
    "tst_feature.t_01.min(), tst_feature.t_01.max()"
   ]
  },
  {
   "cell_type": "code",
   "execution_count": null,
   "metadata": {},
   "outputs": [],
   "source": []
  }
 ],
 "metadata": {
  "kernelspec": {
   "display_name": "Python 3",
   "language": "python",
   "name": "python3"
  },
  "language_info": {
   "codemirror_mode": {
    "name": "ipython",
    "version": 3
   },
   "file_extension": ".py",
   "mimetype": "text/x-python",
   "name": "python",
   "nbconvert_exporter": "python",
   "pygments_lexer": "ipython3",
   "version": "3.6.8"
  }
 },
 "nbformat": 4,
 "nbformat_minor": 2
}
