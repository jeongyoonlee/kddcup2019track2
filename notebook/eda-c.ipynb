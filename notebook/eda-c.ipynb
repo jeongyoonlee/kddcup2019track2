{
 "cells": [
  {
   "cell_type": "code",
   "execution_count": 1,
   "metadata": {
    "ExecuteTime": {
     "end_time": "2019-05-12T19:44:09.571341Z",
     "start_time": "2019-05-12T19:44:09.350684Z"
    }
   },
   "outputs": [],
   "source": [
    "%load_ext autoreload\n",
    "%autoreload 2\n",
    "%matplotlib inline"
   ]
  },
  {
   "cell_type": "code",
   "execution_count": 2,
   "metadata": {
    "ExecuteTime": {
     "end_time": "2019-05-12T19:44:10.222426Z",
     "start_time": "2019-05-12T19:44:09.572935Z"
    }
   },
   "outputs": [],
   "source": [
    "from glob import glob\n",
    "import json\n",
    "from matplotlib import pyplot as plt\n",
    "import numpy as np\n",
    "import os\n",
    "import pandas as pd\n",
    "from pprint import pprint\n",
    "import seaborn as sns"
   ]
  },
  {
   "cell_type": "code",
   "execution_count": 3,
   "metadata": {
    "ExecuteTime": {
     "end_time": "2019-05-12T19:44:10.255546Z",
     "start_time": "2019-05-12T19:44:10.224901Z"
    }
   },
   "outputs": [],
   "source": [
    "plt.style.use('fivethirtyeight')\n",
    "pd.set_option('max_columns', 100)"
   ]
  },
  {
   "cell_type": "code",
   "execution_count": 4,
   "metadata": {
    "ExecuteTime": {
     "end_time": "2019-05-12T19:44:10.290137Z",
     "start_time": "2019-05-12T19:44:10.257721Z"
    }
   },
   "outputs": [],
   "source": [
    "data_dir = '../data/data_public/C'\n",
    "build_dir = '../build/'\n",
    "model_dir = os.path.join(build_dir, 'model')\n",
    "metric_dir = os.path.join(build_dir, 'metric')\n",
    "val_dir = os.path.join(build_dir, 'val')\n",
    "tst_dir = os.path.join(build_dir, 'tst')\n",
    "sub_dir = os.path.join(build_dir, 'sub')\n",
    "\n",
    "info_file = os.path.join(data_dir, 'train', 'info.json')\n",
    "train_feature_file = os.path.join(data_dir, 'train', 'main_train.data')\n",
    "train_label_file = os.path.join(data_dir, 'train', 'main_train.solution')\n",
    "test_feature_file = os.path.join(data_dir, 'test', 'main_test.data')\n",
    "table_files = glob(os.path.join(data_dir, 'train', 'table_*.data'))"
   ]
  },
  {
   "cell_type": "code",
   "execution_count": 5,
   "metadata": {
    "ExecuteTime": {
     "end_time": "2019-05-12T19:44:10.320820Z",
     "start_time": "2019-05-12T19:44:10.292025Z"
    }
   },
   "outputs": [
    {
     "data": {
      "text/plain": [
       "['../data/data_public/C/train/table_1.data',\n",
       " '../data/data_public/C/train/table_2.data']"
      ]
     },
     "execution_count": 5,
     "metadata": {},
     "output_type": "execute_result"
    }
   ],
   "source": [
    "table_files"
   ]
  },
  {
   "cell_type": "code",
   "execution_count": 6,
   "metadata": {
    "ExecuteTime": {
     "end_time": "2019-05-12T19:44:10.368683Z",
     "start_time": "2019-05-12T19:44:10.322160Z"
    }
   },
   "outputs": [
    {
     "name": "stdout",
     "output_type": "stream",
     "text": [
      "{'relations': [{'key': ['c_01'],\n",
      "                'table_A': 'main',\n",
      "                'table_B': 'table_1',\n",
      "                'type': 'many_to_one'},\n",
      "               {'key': ['c_02'],\n",
      "                'table_A': 'main',\n",
      "                'table_B': 'table_2',\n",
      "                'type': 'many_to_one'}],\n",
      " 'start_time': 1550654179,\n",
      " 'tables': {'main': {'c_01': 'cat',\n",
      "                     'c_02': 'cat',\n",
      "                     'c_1': 'cat',\n",
      "                     'c_2': 'cat',\n",
      "                     'c_3': 'cat',\n",
      "                     'c_4': 'cat',\n",
      "                     'c_5': 'cat',\n",
      "                     'm_1': 'multi-cat',\n",
      "                     'n_1': 'num',\n",
      "                     'n_2': 'num',\n",
      "                     'n_3': 'num',\n",
      "                     't_01': 'time',\n",
      "                     't_1': 'time'},\n",
      "            'table_1': {'c_01': 'cat',\n",
      "                        'c_1': 'cat',\n",
      "                        'c_2': 'cat',\n",
      "                        'c_3': 'cat',\n",
      "                        'c_4': 'cat',\n",
      "                        'c_5': 'cat',\n",
      "                        'c_6': 'cat',\n",
      "                        'c_7': 'cat',\n",
      "                        'c_8': 'cat',\n",
      "                        'c_9': 'cat',\n",
      "                        'm_1': 'multi-cat',\n",
      "                        'm_2': 'multi-cat',\n",
      "                        'm_3': 'multi-cat',\n",
      "                        'm_4': 'multi-cat',\n",
      "                        'm_5': 'multi-cat',\n",
      "                        'm_6': 'multi-cat',\n",
      "                        'n_1': 'num',\n",
      "                        'n_2': 'num',\n",
      "                        'n_3': 'num',\n",
      "                        't_1': 'time'},\n",
      "            'table_2': {'c_02': 'cat',\n",
      "                        'c_1': 'cat',\n",
      "                        'c_10': 'cat',\n",
      "                        'c_11': 'cat',\n",
      "                        'c_12': 'cat',\n",
      "                        'c_13': 'cat',\n",
      "                        'c_14': 'cat',\n",
      "                        'c_2': 'cat',\n",
      "                        'c_3': 'cat',\n",
      "                        'c_4': 'cat',\n",
      "                        'c_5': 'cat',\n",
      "                        'c_6': 'cat',\n",
      "                        'c_7': 'cat',\n",
      "                        'c_8': 'cat',\n",
      "                        'c_9': 'cat',\n",
      "                        'm_1': 'multi-cat',\n",
      "                        'm_2': 'multi-cat',\n",
      "                        'n_1': 'num',\n",
      "                        'n_10': 'num',\n",
      "                        'n_11': 'num',\n",
      "                        'n_2': 'num',\n",
      "                        'n_3': 'num',\n",
      "                        'n_4': 'num',\n",
      "                        'n_5': 'num',\n",
      "                        'n_6': 'num',\n",
      "                        'n_7': 'num',\n",
      "                        'n_8': 'num',\n",
      "                        'n_9': 'num',\n",
      "                        't_1': 'time',\n",
      "                        't_2': 'time'}},\n",
      " 'time_budget': 600,\n",
      " 'time_col': 't_01'}\n"
     ]
    }
   ],
   "source": [
    "with open(info_file, 'r') as f:\n",
    "    info = json.load(f)\n",
    "    \n",
    "pprint(info)"
   ]
  },
  {
   "cell_type": "code",
   "execution_count": 7,
   "metadata": {
    "ExecuteTime": {
     "end_time": "2019-05-12T19:44:19.386621Z",
     "start_time": "2019-05-12T19:44:10.370515Z"
    }
   },
   "outputs": [
    {
     "name": "stderr",
     "output_type": "stream",
     "text": [
      "/Users/jeong/.conda/envs/jeong/lib/python3.6/site-packages/IPython/core/interactiveshell.py:3020: DtypeWarning: Columns (3,6,9) have mixed types. Specify dtype option on import or set low_memory=False.\n",
      "  interactivity=interactivity, compiler=compiler, result=result)\n"
     ]
    },
    {
     "name": "stdout",
     "output_type": "stream",
     "text": [
      "(1003286, 13)\n"
     ]
    },
    {
     "data": {
      "text/html": [
       "<div>\n",
       "<style scoped>\n",
       "    .dataframe tbody tr th:only-of-type {\n",
       "        vertical-align: middle;\n",
       "    }\n",
       "\n",
       "    .dataframe tbody tr th {\n",
       "        vertical-align: top;\n",
       "    }\n",
       "\n",
       "    .dataframe thead th {\n",
       "        text-align: right;\n",
       "    }\n",
       "</style>\n",
       "<table border=\"1\" class=\"dataframe\">\n",
       "  <thead>\n",
       "    <tr style=\"text-align: right;\">\n",
       "      <th></th>\n",
       "      <th>t_01</th>\n",
       "      <th>c_1</th>\n",
       "      <th>n_1</th>\n",
       "      <th>c_2</th>\n",
       "      <th>n_2</th>\n",
       "      <th>n_3</th>\n",
       "      <th>c_3</th>\n",
       "      <th>t_1</th>\n",
       "      <th>c_4</th>\n",
       "      <th>c_5</th>\n",
       "      <th>m_1</th>\n",
       "      <th>c_02</th>\n",
       "      <th>c_01</th>\n",
       "    </tr>\n",
       "  </thead>\n",
       "  <tbody>\n",
       "    <tr>\n",
       "      <th>0</th>\n",
       "      <td>2017-12-12 16:53:59.767</td>\n",
       "      <td>68675466883330536</td>\n",
       "      <td>23.5</td>\n",
       "      <td>12035290943822969119</td>\n",
       "      <td>7.0</td>\n",
       "      <td>1.0</td>\n",
       "      <td>12472614627876446882</td>\n",
       "      <td>1.411309e+12</td>\n",
       "      <td>5584643403516971464</td>\n",
       "      <td>6027219818020456589</td>\n",
       "      <td>NaN</td>\n",
       "      <td>3055395646351516089</td>\n",
       "      <td>12035290943822969119</td>\n",
       "    </tr>\n",
       "    <tr>\n",
       "      <th>1</th>\n",
       "      <td>2017-12-13 06:06:06.558</td>\n",
       "      <td>17414172689620624990</td>\n",
       "      <td>1937.5</td>\n",
       "      <td>9545097029847600916</td>\n",
       "      <td>1.0</td>\n",
       "      <td>1.0</td>\n",
       "      <td>3546733086056819470</td>\n",
       "      <td>1.412214e+12</td>\n",
       "      <td>5584643403516971464</td>\n",
       "      <td>16745739996710018631</td>\n",
       "      <td>6580202212748738322,12081440330015705663,12799...</td>\n",
       "      <td>3055395646351516089</td>\n",
       "      <td>9545097029847600916</td>\n",
       "    </tr>\n",
       "    <tr>\n",
       "      <th>2</th>\n",
       "      <td>2017-12-13 05:21:49.648</td>\n",
       "      <td>7677313596318798389</td>\n",
       "      <td>283.0</td>\n",
       "      <td>3642857486069628068</td>\n",
       "      <td>1.0</td>\n",
       "      <td>1.0</td>\n",
       "      <td>12111971706873116700</td>\n",
       "      <td>1.413310e+12</td>\n",
       "      <td>5584643403516971464</td>\n",
       "      <td>6027219818020456589</td>\n",
       "      <td>15555891107502776491,6153563843004120453,13095...</td>\n",
       "      <td>3055395646351516089</td>\n",
       "      <td>3642857486069628068</td>\n",
       "    </tr>\n",
       "    <tr>\n",
       "      <th>3</th>\n",
       "      <td>2017-12-13 04:46:27.741</td>\n",
       "      <td>11050850235276323361</td>\n",
       "      <td>283.0</td>\n",
       "      <td>3642857486069628068</td>\n",
       "      <td>1.0</td>\n",
       "      <td>1.0</td>\n",
       "      <td>12111971706873116700</td>\n",
       "      <td>1.413310e+12</td>\n",
       "      <td>5584643403516971464</td>\n",
       "      <td>6027219818020456589</td>\n",
       "      <td>15555891107502776491,6153563843004120453,13095...</td>\n",
       "      <td>3055395646351516089</td>\n",
       "      <td>3642857486069628068</td>\n",
       "    </tr>\n",
       "    <tr>\n",
       "      <th>4</th>\n",
       "      <td>2017-12-13 02:04:27.767</td>\n",
       "      <td>3534808881945716299</td>\n",
       "      <td>283.0</td>\n",
       "      <td>3642857486069628068</td>\n",
       "      <td>1.0</td>\n",
       "      <td>1.0</td>\n",
       "      <td>12111971706873116700</td>\n",
       "      <td>1.413310e+12</td>\n",
       "      <td>5584643403516971464</td>\n",
       "      <td>6027219818020456589</td>\n",
       "      <td>15555891107502776491,6153563843004120453,13095...</td>\n",
       "      <td>3055395646351516089</td>\n",
       "      <td>3642857486069628068</td>\n",
       "    </tr>\n",
       "  </tbody>\n",
       "</table>\n",
       "</div>"
      ],
      "text/plain": [
       "                     t_01                   c_1     n_1                   c_2  \\\n",
       "0 2017-12-12 16:53:59.767     68675466883330536    23.5  12035290943822969119   \n",
       "1 2017-12-13 06:06:06.558  17414172689620624990  1937.5   9545097029847600916   \n",
       "2 2017-12-13 05:21:49.648   7677313596318798389   283.0   3642857486069628068   \n",
       "3 2017-12-13 04:46:27.741  11050850235276323361   283.0   3642857486069628068   \n",
       "4 2017-12-13 02:04:27.767   3534808881945716299   283.0   3642857486069628068   \n",
       "\n",
       "   n_2  n_3                   c_3           t_1                  c_4  \\\n",
       "0  7.0  1.0  12472614627876446882  1.411309e+12  5584643403516971464   \n",
       "1  1.0  1.0   3546733086056819470  1.412214e+12  5584643403516971464   \n",
       "2  1.0  1.0  12111971706873116700  1.413310e+12  5584643403516971464   \n",
       "3  1.0  1.0  12111971706873116700  1.413310e+12  5584643403516971464   \n",
       "4  1.0  1.0  12111971706873116700  1.413310e+12  5584643403516971464   \n",
       "\n",
       "                    c_5                                                m_1  \\\n",
       "0   6027219818020456589                                                NaN   \n",
       "1  16745739996710018631  6580202212748738322,12081440330015705663,12799...   \n",
       "2   6027219818020456589  15555891107502776491,6153563843004120453,13095...   \n",
       "3   6027219818020456589  15555891107502776491,6153563843004120453,13095...   \n",
       "4   6027219818020456589  15555891107502776491,6153563843004120453,13095...   \n",
       "\n",
       "                  c_02                  c_01  \n",
       "0  3055395646351516089  12035290943822969119  \n",
       "1  3055395646351516089   9545097029847600916  \n",
       "2  3055395646351516089   3642857486069628068  \n",
       "3  3055395646351516089   3642857486069628068  \n",
       "4  3055395646351516089   3642857486069628068  "
      ]
     },
     "execution_count": 7,
     "metadata": {},
     "output_type": "execute_result"
    }
   ],
   "source": [
    "trn_feature = pd.read_csv(train_feature_file, sep='\\t', parse_dates=['t_01'],\n",
    "                          date_parser=lambda x: pd.to_datetime(x, unit='ms'))\n",
    "print(trn_feature.shape)\n",
    "trn_feature.head()"
   ]
  },
  {
   "cell_type": "code",
   "execution_count": 8,
   "metadata": {
    "ExecuteTime": {
     "end_time": "2019-05-12T19:44:19.419598Z",
     "start_time": "2019-05-12T19:44:19.388914Z"
    }
   },
   "outputs": [
    {
     "data": {
      "text/plain": [
       "(Timestamp('2017-12-12 16:00:00.504000'),\n",
       " Timestamp('2017-12-13 08:00:19.784000'))"
      ]
     },
     "execution_count": 8,
     "metadata": {},
     "output_type": "execute_result"
    }
   ],
   "source": [
    "trn_feature.t_01.min(), trn_feature.t_01.max()"
   ]
  },
  {
   "cell_type": "code",
   "execution_count": 9,
   "metadata": {
    "ExecuteTime": {
     "end_time": "2019-05-12T19:44:28.153759Z",
     "start_time": "2019-05-12T19:44:19.421039Z"
    }
   },
   "outputs": [
    {
     "name": "stdout",
     "output_type": "stream",
     "text": [
      "(981609, 13)\n"
     ]
    },
    {
     "data": {
      "text/html": [
       "<div>\n",
       "<style scoped>\n",
       "    .dataframe tbody tr th:only-of-type {\n",
       "        vertical-align: middle;\n",
       "    }\n",
       "\n",
       "    .dataframe tbody tr th {\n",
       "        vertical-align: top;\n",
       "    }\n",
       "\n",
       "    .dataframe thead th {\n",
       "        text-align: right;\n",
       "    }\n",
       "</style>\n",
       "<table border=\"1\" class=\"dataframe\">\n",
       "  <thead>\n",
       "    <tr style=\"text-align: right;\">\n",
       "      <th></th>\n",
       "      <th>t_01</th>\n",
       "      <th>c_1</th>\n",
       "      <th>n_1</th>\n",
       "      <th>c_2</th>\n",
       "      <th>n_2</th>\n",
       "      <th>n_3</th>\n",
       "      <th>c_3</th>\n",
       "      <th>t_1</th>\n",
       "      <th>c_4</th>\n",
       "      <th>c_5</th>\n",
       "      <th>m_1</th>\n",
       "      <th>c_02</th>\n",
       "      <th>c_01</th>\n",
       "    </tr>\n",
       "  </thead>\n",
       "  <tbody>\n",
       "    <tr>\n",
       "      <th>0</th>\n",
       "      <td>2017-12-13 13:53:23.767</td>\n",
       "      <td>15830274432186618869</td>\n",
       "      <td>730.0</td>\n",
       "      <td>4667765872432727041</td>\n",
       "      <td>4.0</td>\n",
       "      <td>1.0</td>\n",
       "      <td>9712055990861830264</td>\n",
       "      <td>1.465056e+12</td>\n",
       "      <td>5584643403516971464</td>\n",
       "      <td>6027219818020456589</td>\n",
       "      <td>8699576179905564834,8699576179905564834,869957...</td>\n",
       "      <td>8874030903125726337</td>\n",
       "      <td>4667765872432727041</td>\n",
       "    </tr>\n",
       "    <tr>\n",
       "      <th>1</th>\n",
       "      <td>2017-12-13 12:48:00.558</td>\n",
       "      <td>4232558052441353188</td>\n",
       "      <td>337.0</td>\n",
       "      <td>10184931392612762668</td>\n",
       "      <td>1.0</td>\n",
       "      <td>1.0</td>\n",
       "      <td>9712055990861830264</td>\n",
       "      <td>1.466848e+12</td>\n",
       "      <td>5584643403516971464</td>\n",
       "      <td>6027219818020456589</td>\n",
       "      <td>646386744235755061,646386744235755061,51806179...</td>\n",
       "      <td>8874030903125726337</td>\n",
       "      <td>10184931392612762668</td>\n",
       "    </tr>\n",
       "    <tr>\n",
       "      <th>2</th>\n",
       "      <td>2017-12-13 10:10:22.648</td>\n",
       "      <td>4232558052441353188</td>\n",
       "      <td>337.0</td>\n",
       "      <td>10184931392612762668</td>\n",
       "      <td>1.0</td>\n",
       "      <td>1.0</td>\n",
       "      <td>9712055990861830264</td>\n",
       "      <td>1.466848e+12</td>\n",
       "      <td>5584643403516971464</td>\n",
       "      <td>6027219818020456589</td>\n",
       "      <td>646386744235755061,646386744235755061,51806179...</td>\n",
       "      <td>8874030903125726337</td>\n",
       "      <td>10184931392612762668</td>\n",
       "    </tr>\n",
       "    <tr>\n",
       "      <th>3</th>\n",
       "      <td>2017-12-13 12:40:08.741</td>\n",
       "      <td>5238038937678288285</td>\n",
       "      <td>238.0</td>\n",
       "      <td>6540996432261550297</td>\n",
       "      <td>1.0</td>\n",
       "      <td>1.0</td>\n",
       "      <td>10356890165741141056</td>\n",
       "      <td>1.467370e+12</td>\n",
       "      <td>5584643403516971464</td>\n",
       "      <td>6027219818020456589</td>\n",
       "      <td>4078306114846299113,4078306114846299113,325886...</td>\n",
       "      <td>8874030903125726337</td>\n",
       "      <td>6540996432261550297</td>\n",
       "    </tr>\n",
       "    <tr>\n",
       "      <th>4</th>\n",
       "      <td>2017-12-13 10:09:32.767</td>\n",
       "      <td>2219249555476167696</td>\n",
       "      <td>238.0</td>\n",
       "      <td>6540996432261550297</td>\n",
       "      <td>1.0</td>\n",
       "      <td>1.0</td>\n",
       "      <td>10356890165741141056</td>\n",
       "      <td>1.467370e+12</td>\n",
       "      <td>5584643403516971464</td>\n",
       "      <td>6027219818020456589</td>\n",
       "      <td>4078306114846299113,4078306114846299113,325886...</td>\n",
       "      <td>8874030903125726337</td>\n",
       "      <td>6540996432261550297</td>\n",
       "    </tr>\n",
       "  </tbody>\n",
       "</table>\n",
       "</div>"
      ],
      "text/plain": [
       "                     t_01                   c_1    n_1                   c_2  \\\n",
       "0 2017-12-13 13:53:23.767  15830274432186618869  730.0   4667765872432727041   \n",
       "1 2017-12-13 12:48:00.558   4232558052441353188  337.0  10184931392612762668   \n",
       "2 2017-12-13 10:10:22.648   4232558052441353188  337.0  10184931392612762668   \n",
       "3 2017-12-13 12:40:08.741   5238038937678288285  238.0   6540996432261550297   \n",
       "4 2017-12-13 10:09:32.767   2219249555476167696  238.0   6540996432261550297   \n",
       "\n",
       "   n_2  n_3                   c_3           t_1                  c_4  \\\n",
       "0  4.0  1.0   9712055990861830264  1.465056e+12  5584643403516971464   \n",
       "1  1.0  1.0   9712055990861830264  1.466848e+12  5584643403516971464   \n",
       "2  1.0  1.0   9712055990861830264  1.466848e+12  5584643403516971464   \n",
       "3  1.0  1.0  10356890165741141056  1.467370e+12  5584643403516971464   \n",
       "4  1.0  1.0  10356890165741141056  1.467370e+12  5584643403516971464   \n",
       "\n",
       "                   c_5                                                m_1  \\\n",
       "0  6027219818020456589  8699576179905564834,8699576179905564834,869957...   \n",
       "1  6027219818020456589  646386744235755061,646386744235755061,51806179...   \n",
       "2  6027219818020456589  646386744235755061,646386744235755061,51806179...   \n",
       "3  6027219818020456589  4078306114846299113,4078306114846299113,325886...   \n",
       "4  6027219818020456589  4078306114846299113,4078306114846299113,325886...   \n",
       "\n",
       "                  c_02                  c_01  \n",
       "0  8874030903125726337   4667765872432727041  \n",
       "1  8874030903125726337  10184931392612762668  \n",
       "2  8874030903125726337  10184931392612762668  \n",
       "3  8874030903125726337   6540996432261550297  \n",
       "4  8874030903125726337   6540996432261550297  "
      ]
     },
     "execution_count": 9,
     "metadata": {},
     "output_type": "execute_result"
    }
   ],
   "source": [
    "tst_feature = pd.read_csv(test_feature_file, sep='\\t', parse_dates=['t_01'],\n",
    "                          date_parser=lambda x: pd.to_datetime(x, unit='ms'))\n",
    "print(tst_feature.shape)\n",
    "tst_feature.head()"
   ]
  },
  {
   "cell_type": "code",
   "execution_count": 10,
   "metadata": {
    "ExecuteTime": {
     "end_time": "2019-05-12T19:44:28.195093Z",
     "start_time": "2019-05-12T19:44:28.155491Z"
    }
   },
   "outputs": [
    {
     "data": {
      "text/plain": [
       "(Timestamp('2017-12-13 08:00:26.501000'),\n",
       " Timestamp('2017-12-13 16:00:01.764000'))"
      ]
     },
     "execution_count": 10,
     "metadata": {},
     "output_type": "execute_result"
    }
   ],
   "source": [
    "tst_feature.t_01.min(), tst_feature.t_01.max()"
   ]
  },
  {
   "cell_type": "code",
   "execution_count": null,
   "metadata": {},
   "outputs": [],
   "source": []
  }
 ],
 "metadata": {
  "kernelspec": {
   "display_name": "Python 3",
   "language": "python",
   "name": "python3"
  },
  "language_info": {
   "codemirror_mode": {
    "name": "ipython",
    "version": 3
   },
   "file_extension": ".py",
   "mimetype": "text/x-python",
   "name": "python",
   "nbconvert_exporter": "python",
   "pygments_lexer": "ipython3",
   "version": "3.6.8"
  }
 },
 "nbformat": 4,
 "nbformat_minor": 2
}
