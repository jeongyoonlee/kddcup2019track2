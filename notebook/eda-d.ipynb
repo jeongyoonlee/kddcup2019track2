{
 "cells": [
  {
   "cell_type": "code",
   "execution_count": 1,
   "metadata": {
    "ExecuteTime": {
     "end_time": "2019-05-12T19:44:26.823112Z",
     "start_time": "2019-05-12T19:44:26.588232Z"
    }
   },
   "outputs": [],
   "source": [
    "%load_ext autoreload\n",
    "%autoreload 2\n",
    "%matplotlib inline"
   ]
  },
  {
   "cell_type": "code",
   "execution_count": 2,
   "metadata": {
    "ExecuteTime": {
     "end_time": "2019-05-12T19:44:27.461772Z",
     "start_time": "2019-05-12T19:44:26.824481Z"
    }
   },
   "outputs": [],
   "source": [
    "from glob import glob\n",
    "import json\n",
    "from matplotlib import pyplot as plt\n",
    "import numpy as np\n",
    "import os\n",
    "import pandas as pd\n",
    "from pprint import pprint\n",
    "import seaborn as sns"
   ]
  },
  {
   "cell_type": "code",
   "execution_count": 3,
   "metadata": {
    "ExecuteTime": {
     "end_time": "2019-05-12T19:44:27.493087Z",
     "start_time": "2019-05-12T19:44:27.464231Z"
    }
   },
   "outputs": [],
   "source": [
    "plt.style.use('fivethirtyeight')\n",
    "pd.set_option('max_columns', 100)"
   ]
  },
  {
   "cell_type": "code",
   "execution_count": 4,
   "metadata": {
    "ExecuteTime": {
     "end_time": "2019-05-12T19:44:27.523212Z",
     "start_time": "2019-05-12T19:44:27.495415Z"
    }
   },
   "outputs": [],
   "source": [
    "data_dir = '../data/data_public/D'\n",
    "build_dir = '../build/'\n",
    "model_dir = os.path.join(build_dir, 'model')\n",
    "metric_dir = os.path.join(build_dir, 'metric')\n",
    "val_dir = os.path.join(build_dir, 'val')\n",
    "tst_dir = os.path.join(build_dir, 'tst')\n",
    "sub_dir = os.path.join(build_dir, 'sub')\n",
    "\n",
    "info_file = os.path.join(data_dir, 'train', 'info.json')\n",
    "train_feature_file = os.path.join(data_dir, 'train', 'main_train.data')\n",
    "train_label_file = os.path.join(data_dir, 'train', 'main_train.solution')\n",
    "test_feature_file = os.path.join(data_dir, 'test', 'main_test.data')\n",
    "table_files = glob(os.path.join(data_dir, 'train', 'table_*.data'))"
   ]
  },
  {
   "cell_type": "code",
   "execution_count": 5,
   "metadata": {
    "ExecuteTime": {
     "end_time": "2019-05-12T19:44:27.554137Z",
     "start_time": "2019-05-12T19:44:27.524971Z"
    }
   },
   "outputs": [
    {
     "data": {
      "text/plain": [
       "['../data/data_public/D/train/table_1.data',\n",
       " '../data/data_public/D/train/table_3.data',\n",
       " '../data/data_public/D/train/table_2.data']"
      ]
     },
     "execution_count": 5,
     "metadata": {},
     "output_type": "execute_result"
    }
   ],
   "source": [
    "table_files"
   ]
  },
  {
   "cell_type": "code",
   "execution_count": 6,
   "metadata": {
    "ExecuteTime": {
     "end_time": "2019-05-12T19:44:27.602956Z",
     "start_time": "2019-05-12T19:44:27.555894Z"
    }
   },
   "outputs": [
    {
     "name": "stdout",
     "output_type": "stream",
     "text": [
      "{'relations': [{'key': ['c_01'],\n",
      "                'table_A': 'main',\n",
      "                'table_B': 'table_1',\n",
      "                'type': 'many_to_many'},\n",
      "               {'key': ['c_02'],\n",
      "                'table_A': 'main',\n",
      "                'table_B': 'table_2',\n",
      "                'type': 'many_to_many'},\n",
      "               {'key': ['c_02'],\n",
      "                'table_A': 'main',\n",
      "                'table_B': 'table_3',\n",
      "                'type': 'many_to_many'}],\n",
      " 'start_time': 1550654179,\n",
      " 'tables': {'main': {'c_01': 'cat',\n",
      "                     'c_02': 'cat',\n",
      "                     'n_1': 'num',\n",
      "                     'n_2': 'num',\n",
      "                     't_01': 'time'},\n",
      "            'table_1': {'c_01': 'cat',\n",
      "                        'c_1': 'cat',\n",
      "                        'c_2': 'cat',\n",
      "                        'c_3': 'cat',\n",
      "                        'm_1': 'multi-cat',\n",
      "                        'm_2': 'multi-cat',\n",
      "                        'm_3': 'multi-cat',\n",
      "                        'm_4': 'multi-cat',\n",
      "                        'm_5': 'multi-cat',\n",
      "                        'm_6': 'multi-cat',\n",
      "                        't_01': 'time'},\n",
      "            'table_2': {'c_02': 'cat',\n",
      "                        'c_1': 'cat',\n",
      "                        'c_2': 'cat',\n",
      "                        'm_1': 'multi-cat',\n",
      "                        'm_2': 'multi-cat',\n",
      "                        'm_3': 'multi-cat',\n",
      "                        'n_1': 'num',\n",
      "                        'n_2': 'num',\n",
      "                        'n_3': 'num',\n",
      "                        't_01': 'time',\n",
      "                        't_1': 'time'},\n",
      "            'table_3': {'c_02': 'cat',\n",
      "                        'c_1': 'cat',\n",
      "                        'c_2': 'cat',\n",
      "                        'c_3': 'cat',\n",
      "                        'n_1': 'num',\n",
      "                        't_01': 'time'}},\n",
      " 'time_budget': 1200,\n",
      " 'time_col': 't_01'}\n"
     ]
    }
   ],
   "source": [
    "with open(info_file, 'r') as f:\n",
    "    info = json.load(f)\n",
    "    \n",
    "pprint(info)"
   ]
  },
  {
   "cell_type": "code",
   "execution_count": 7,
   "metadata": {
    "ExecuteTime": {
     "end_time": "2019-05-12T19:44:37.331729Z",
     "start_time": "2019-05-12T19:44:27.604570Z"
    }
   },
   "outputs": [
    {
     "name": "stdout",
     "output_type": "stream",
     "text": [
      "(1888366, 5)\n"
     ]
    },
    {
     "data": {
      "text/html": [
       "<div>\n",
       "<style scoped>\n",
       "    .dataframe tbody tr th:only-of-type {\n",
       "        vertical-align: middle;\n",
       "    }\n",
       "\n",
       "    .dataframe tbody tr th {\n",
       "        vertical-align: top;\n",
       "    }\n",
       "\n",
       "    .dataframe thead th {\n",
       "        text-align: right;\n",
       "    }\n",
       "</style>\n",
       "<table border=\"1\" class=\"dataframe\">\n",
       "  <thead>\n",
       "    <tr style=\"text-align: right;\">\n",
       "      <th></th>\n",
       "      <th>c_02</th>\n",
       "      <th>c_01</th>\n",
       "      <th>n_1</th>\n",
       "      <th>n_2</th>\n",
       "      <th>t_01</th>\n",
       "    </tr>\n",
       "  </thead>\n",
       "  <tbody>\n",
       "    <tr>\n",
       "      <th>0</th>\n",
       "      <td>1780623349027601515</td>\n",
       "      <td>18027512907438194420</td>\n",
       "      <td>14.5</td>\n",
       "      <td>17.5</td>\n",
       "      <td>2016-12-04 16:00:00.767</td>\n",
       "    </tr>\n",
       "    <tr>\n",
       "      <th>1</th>\n",
       "      <td>3549433084934381877</td>\n",
       "      <td>15546346533067525411</td>\n",
       "      <td>1.0</td>\n",
       "      <td>4.0</td>\n",
       "      <td>2016-12-06 16:00:00.763</td>\n",
       "    </tr>\n",
       "    <tr>\n",
       "      <th>2</th>\n",
       "      <td>3515793814025948112</td>\n",
       "      <td>15546346533067525411</td>\n",
       "      <td>2.5</td>\n",
       "      <td>8.5</td>\n",
       "      <td>2016-12-06 16:00:00.558</td>\n",
       "    </tr>\n",
       "    <tr>\n",
       "      <th>3</th>\n",
       "      <td>3095372767275414557</td>\n",
       "      <td>15546346533067525411</td>\n",
       "      <td>4.0</td>\n",
       "      <td>8.5</td>\n",
       "      <td>2016-12-06 16:00:00.547</td>\n",
       "    </tr>\n",
       "    <tr>\n",
       "      <th>4</th>\n",
       "      <td>22144318882883681</td>\n",
       "      <td>1259553816203335492</td>\n",
       "      <td>1.0</td>\n",
       "      <td>11.5</td>\n",
       "      <td>2016-12-10 16:00:00.648</td>\n",
       "    </tr>\n",
       "  </tbody>\n",
       "</table>\n",
       "</div>"
      ],
      "text/plain": [
       "                  c_02                  c_01   n_1   n_2  \\\n",
       "0  1780623349027601515  18027512907438194420  14.5  17.5   \n",
       "1  3549433084934381877  15546346533067525411   1.0   4.0   \n",
       "2  3515793814025948112  15546346533067525411   2.5   8.5   \n",
       "3  3095372767275414557  15546346533067525411   4.0   8.5   \n",
       "4    22144318882883681   1259553816203335492   1.0  11.5   \n",
       "\n",
       "                     t_01  \n",
       "0 2016-12-04 16:00:00.767  \n",
       "1 2016-12-06 16:00:00.763  \n",
       "2 2016-12-06 16:00:00.558  \n",
       "3 2016-12-06 16:00:00.547  \n",
       "4 2016-12-10 16:00:00.648  "
      ]
     },
     "execution_count": 7,
     "metadata": {},
     "output_type": "execute_result"
    }
   ],
   "source": [
    "trn_feature = pd.read_csv(train_feature_file, sep='\\t', parse_dates=['t_01'],\n",
    "                          date_parser=lambda x: pd.to_datetime(x, unit='ms'))\n",
    "print(trn_feature.shape)\n",
    "trn_feature.head()"
   ]
  },
  {
   "cell_type": "code",
   "execution_count": 8,
   "metadata": {
    "ExecuteTime": {
     "end_time": "2019-05-12T19:44:37.372532Z",
     "start_time": "2019-05-12T19:44:37.334001Z"
    }
   },
   "outputs": [
    {
     "data": {
      "text/plain": [
       "(Timestamp('2016-11-27 16:00:00.500000'),\n",
       " Timestamp('2016-12-10 16:00:00.800000'))"
      ]
     },
     "execution_count": 8,
     "metadata": {},
     "output_type": "execute_result"
    }
   ],
   "source": [
    "trn_feature.t_01.min(), trn_feature.t_01.max()"
   ]
  },
  {
   "cell_type": "code",
   "execution_count": 9,
   "metadata": {
    "ExecuteTime": {
     "end_time": "2019-05-12T19:44:42.864917Z",
     "start_time": "2019-05-12T19:44:37.374465Z"
    }
   },
   "outputs": [
    {
     "name": "stdout",
     "output_type": "stream",
     "text": [
      "(1119778, 5)\n"
     ]
    },
    {
     "data": {
      "text/html": [
       "<div>\n",
       "<style scoped>\n",
       "    .dataframe tbody tr th:only-of-type {\n",
       "        vertical-align: middle;\n",
       "    }\n",
       "\n",
       "    .dataframe tbody tr th {\n",
       "        vertical-align: top;\n",
       "    }\n",
       "\n",
       "    .dataframe thead th {\n",
       "        text-align: right;\n",
       "    }\n",
       "</style>\n",
       "<table border=\"1\" class=\"dataframe\">\n",
       "  <thead>\n",
       "    <tr style=\"text-align: right;\">\n",
       "      <th></th>\n",
       "      <th>c_02</th>\n",
       "      <th>c_01</th>\n",
       "      <th>n_1</th>\n",
       "      <th>n_2</th>\n",
       "      <th>t_01</th>\n",
       "    </tr>\n",
       "  </thead>\n",
       "  <tbody>\n",
       "    <tr>\n",
       "      <th>0</th>\n",
       "      <td>12481994899363344225</td>\n",
       "      <td>5972525029214780810</td>\n",
       "      <td>2.5</td>\n",
       "      <td>13.0</td>\n",
       "      <td>2016-12-16 16:00:00.767</td>\n",
       "    </tr>\n",
       "    <tr>\n",
       "      <th>1</th>\n",
       "      <td>9662769966712796885</td>\n",
       "      <td>5972525029214780810</td>\n",
       "      <td>4.0</td>\n",
       "      <td>13.0</td>\n",
       "      <td>2016-12-16 16:00:00.763</td>\n",
       "    </tr>\n",
       "    <tr>\n",
       "      <th>2</th>\n",
       "      <td>7649590445827361396</td>\n",
       "      <td>5972525029214780810</td>\n",
       "      <td>5.5</td>\n",
       "      <td>13.0</td>\n",
       "      <td>2016-12-16 16:00:00.558</td>\n",
       "    </tr>\n",
       "    <tr>\n",
       "      <th>3</th>\n",
       "      <td>17513417003587958057</td>\n",
       "      <td>5972525029214780810</td>\n",
       "      <td>7.0</td>\n",
       "      <td>13.0</td>\n",
       "      <td>2016-12-16 16:00:00.547</td>\n",
       "    </tr>\n",
       "    <tr>\n",
       "      <th>4</th>\n",
       "      <td>7802763930956925359</td>\n",
       "      <td>5972525029214780810</td>\n",
       "      <td>8.5</td>\n",
       "      <td>13.0</td>\n",
       "      <td>2016-12-16 16:00:00.648</td>\n",
       "    </tr>\n",
       "  </tbody>\n",
       "</table>\n",
       "</div>"
      ],
      "text/plain": [
       "                   c_02                 c_01  n_1   n_2  \\\n",
       "0  12481994899363344225  5972525029214780810  2.5  13.0   \n",
       "1   9662769966712796885  5972525029214780810  4.0  13.0   \n",
       "2   7649590445827361396  5972525029214780810  5.5  13.0   \n",
       "3  17513417003587958057  5972525029214780810  7.0  13.0   \n",
       "4   7802763930956925359  5972525029214780810  8.5  13.0   \n",
       "\n",
       "                     t_01  \n",
       "0 2016-12-16 16:00:00.767  \n",
       "1 2016-12-16 16:00:00.763  \n",
       "2 2016-12-16 16:00:00.558  \n",
       "3 2016-12-16 16:00:00.547  \n",
       "4 2016-12-16 16:00:00.648  "
      ]
     },
     "execution_count": 9,
     "metadata": {},
     "output_type": "execute_result"
    }
   ],
   "source": [
    "tst_feature = pd.read_csv(test_feature_file, sep='\\t', parse_dates=['t_01'],\n",
    "                          date_parser=lambda x: pd.to_datetime(x, unit='ms'))\n",
    "print(tst_feature.shape)\n",
    "tst_feature.head()"
   ]
  },
  {
   "cell_type": "code",
   "execution_count": 10,
   "metadata": {
    "ExecuteTime": {
     "end_time": "2019-05-12T19:44:42.901662Z",
     "start_time": "2019-05-12T19:44:42.866646Z"
    }
   },
   "outputs": [
    {
     "data": {
      "text/plain": [
       "(Timestamp('2016-12-11 16:00:00.500000'),\n",
       " Timestamp('2016-12-17 16:00:00.800000'))"
      ]
     },
     "execution_count": 10,
     "metadata": {},
     "output_type": "execute_result"
    }
   ],
   "source": [
    "tst_feature.t_01.min(), tst_feature.t_01.max()"
   ]
  },
  {
   "cell_type": "code",
   "execution_count": null,
   "metadata": {},
   "outputs": [],
   "source": []
  }
 ],
 "metadata": {
  "kernelspec": {
   "display_name": "Python 3",
   "language": "python",
   "name": "python3"
  },
  "language_info": {
   "codemirror_mode": {
    "name": "ipython",
    "version": 3
   },
   "file_extension": ".py",
   "mimetype": "text/x-python",
   "name": "python",
   "nbconvert_exporter": "python",
   "pygments_lexer": "ipython3",
   "version": "3.6.8"
  }
 },
 "nbformat": 4,
 "nbformat_minor": 2
}
